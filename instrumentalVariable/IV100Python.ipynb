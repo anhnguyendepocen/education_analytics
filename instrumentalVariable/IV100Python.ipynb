{
 "cells": [
  {
   "cell_type": "code",
   "execution_count": 1,
   "metadata": {},
   "outputs": [
    {
     "name": "stderr",
     "output_type": "stream",
     "text": [
      "/home/jon/anaconda3/envs/fastai/lib/python3.6/site-packages/linearmodels/utility.py:496: MissingValueWarning: \n",
      "Inputs contain missing values. Dropping rows with missing observations.\n",
      "  warnings.warn(missing_value_warning_msg, MissingValueWarning)\n"
     ]
    }
   ],
   "source": [
    "import numpy as np\n",
    "from linearmodels.iv import IV2SLS\n",
    "from linearmodels.datasets import mroz\n",
    "data = mroz.load()\n",
    "mod = IV2SLS.from_formula('np.log(wage) ~ 1 + exper + exper ** 2 + [educ ~ motheduc + fatheduc]', data)"
   ]
  },
  {
   "cell_type": "code",
   "execution_count": 2,
   "metadata": {},
   "outputs": [],
   "source": [
    "res = mod.fit()"
   ]
  },
  {
   "cell_type": "code",
   "execution_count": 3,
   "metadata": {},
   "outputs": [
    {
     "data": {
      "text/html": [
       "<table class=\"simpletable\">\n",
       "<caption>IV-2SLS Estimation Summary</caption>\n",
       "<tr>\n",
       "  <th>Dep. Variable:</th>      <td>np.log(wage)</td>   <th>  R-squared:         </th> <td>0.1298</td> \n",
       "</tr>\n",
       "<tr>\n",
       "  <th>Estimator:</th>             <td>IV-2SLS</td>     <th>  Adj. R-squared:    </th> <td>0.1257</td> \n",
       "</tr>\n",
       "<tr>\n",
       "  <th>No. Observations:</th>        <td>428</td>       <th>  F-statistic:       </th> <td>17.513</td> \n",
       "</tr>\n",
       "<tr>\n",
       "  <th>Date:</th>             <td>Fri, Sep 07 2018</td> <th>  P-value (F-stat)   </th> <td>0.0002</td> \n",
       "</tr>\n",
       "<tr>\n",
       "  <th>Time:</th>                 <td>22:31:25</td>     <th>  Distribution:      </th> <td>chi2(2)</td>\n",
       "</tr>\n",
       "<tr>\n",
       "  <th>Cov. Estimator:</th>        <td>robust</td>      <th>                     </th>    <td></td>    \n",
       "</tr>\n",
       "<tr>\n",
       "  <th></th>                          <td></td>         <th>                     </th>    <td></td>    \n",
       "</tr>\n",
       "</table>\n",
       "<table class=\"simpletable\">\n",
       "<caption>Parameter Estimates</caption>\n",
       "<tr>\n",
       "      <td></td>      <th>Parameter</th> <th>Std. Err.</th> <th>T-stat</th> <th>P-value</th> <th>Lower CI</th> <th>Upper CI</th>\n",
       "</tr>\n",
       "<tr>\n",
       "  <th>Intercept</th>  <td>0.1478</td>    <td>0.4277</td>   <td>0.3457</td> <td>0.7296</td>   <td>-0.6905</td>  <td>0.9862</td> \n",
       "</tr>\n",
       "<tr>\n",
       "  <th>exper</th>      <td>0.0155</td>    <td>0.0041</td>   <td>3.7578</td> <td>0.0002</td>   <td>0.0074</td>   <td>0.0236</td> \n",
       "</tr>\n",
       "<tr>\n",
       "  <th>educ</th>       <td>0.0664</td>    <td>0.0335</td>   <td>1.9839</td> <td>0.0473</td>   <td>0.0008</td>   <td>0.1320</td> \n",
       "</tr>\n",
       "</table><br/><br/>Endogenous: educ<br/>Instruments: motheduc, fatheduc<br/>Robust Covariance (Heteroskedastic)<br/>Debiased: False<br/>id: 0x7f59505e36a0"
      ],
      "text/plain": [
       "                          IV-2SLS Estimation Summary                          \n",
       "==============================================================================\n",
       "Dep. Variable:           np.log(wage)   R-squared:                      0.1298\n",
       "Estimator:                    IV-2SLS   Adj. R-squared:                 0.1257\n",
       "No. Observations:                 428   F-statistic:                    17.513\n",
       "Date:                Fri, Sep 07 2018   P-value (F-stat)                0.0002\n",
       "Time:                        22:31:25   Distribution:                  chi2(2)\n",
       "Cov. Estimator:                robust                                         \n",
       "                                                                              \n",
       "                             Parameter Estimates                              \n",
       "==============================================================================\n",
       "            Parameter  Std. Err.     T-stat    P-value    Lower CI    Upper CI\n",
       "------------------------------------------------------------------------------\n",
       "Intercept      0.1478     0.4277     0.3457     0.7296     -0.6905      0.9862\n",
       "exper          0.0155     0.0041     3.7578     0.0002      0.0074      0.0236\n",
       "educ           0.0664     0.0335     1.9839     0.0473      0.0008      0.1320\n",
       "==============================================================================\n",
       "\n",
       "Endogenous: educ\n",
       "Instruments: motheduc, fatheduc\n",
       "Robust Covariance (Heteroskedastic)\n",
       "Debiased: False\n",
       "IVResults, id: 0x7f59505e36a0"
      ]
     },
     "execution_count": 3,
     "metadata": {},
     "output_type": "execute_result"
    }
   ],
   "source": [
    "res"
   ]
  },
  {
   "cell_type": "code",
   "execution_count": null,
   "metadata": {},
   "outputs": [],
   "source": []
  }
 ],
 "metadata": {
  "kernelspec": {
   "display_name": "Python [conda env:fastai]",
   "language": "python",
   "name": "conda-env-fastai-py"
  },
  "language_info": {
   "codemirror_mode": {
    "name": "ipython",
    "version": 3
   },
   "file_extension": ".py",
   "mimetype": "text/x-python",
   "name": "python",
   "nbconvert_exporter": "python",
   "pygments_lexer": "ipython3",
   "version": "3.6.5"
  }
 },
 "nbformat": 4,
 "nbformat_minor": 2
}
