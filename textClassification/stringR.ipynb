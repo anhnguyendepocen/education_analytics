{
 "cells": [
  {
   "cell_type": "code",
   "execution_count": 2,
   "metadata": {},
   "outputs": [],
   "source": [
    "library(\"stringr\")"
   ]
  },
  {
   "cell_type": "code",
   "execution_count": 3,
   "metadata": {},
   "outputs": [
    {
     "data": {
      "text/html": [
       "3"
      ],
      "text/latex": [
       "3"
      ],
      "text/markdown": [
       "3"
      ],
      "text/plain": [
       "[1] 3"
      ]
     },
     "metadata": {},
     "output_type": "display_data"
    }
   ],
   "source": [
    "str_length(\"abc\")"
   ]
  },
  {
   "cell_type": "code",
   "execution_count": 4,
   "metadata": {},
   "outputs": [
    {
     "data": {
      "text/html": [
       "3"
      ],
      "text/latex": [
       "3"
      ],
      "text/markdown": [
       "3"
      ],
      "text/plain": [
       "[1] 3"
      ]
     },
     "metadata": {},
     "output_type": "display_data"
    }
   ],
   "source": [
    "nchar(\"abc\")"
   ]
  },
  {
   "cell_type": "code",
   "execution_count": 5,
   "metadata": {},
   "outputs": [],
   "source": [
    "x = c(\"dddfdfd\", \"iefefe\")"
   ]
  },
  {
   "cell_type": "code",
   "execution_count": 6,
   "metadata": {},
   "outputs": [
    {
     "data": {
      "text/html": [
       "<ol class=list-inline>\n",
       "\t<li>'ddfdf'</li>\n",
       "\t<li>'efef'</li>\n",
       "</ol>\n"
      ],
      "text/latex": [
       "\\begin{enumerate*}\n",
       "\\item 'ddfdf'\n",
       "\\item 'efef'\n",
       "\\end{enumerate*}\n"
      ],
      "text/markdown": [
       "1. 'ddfdf'\n",
       "2. 'efef'\n",
       "\n",
       "\n"
      ],
      "text/plain": [
       "[1] \"ddfdf\" \"efef\" "
      ]
     },
     "metadata": {},
     "output_type": "display_data"
    }
   ],
   "source": [
    "str_sub(x, 2,-2)"
   ]
  },
  {
   "cell_type": "code",
   "execution_count": 7,
   "metadata": {},
   "outputs": [],
   "source": [
    "str_sub(x, 2,-2) = \"we\""
   ]
  },
  {
   "cell_type": "code",
   "execution_count": 8,
   "metadata": {},
   "outputs": [
    {
     "data": {
      "text/html": [
       "<ol class=list-inline>\n",
       "\t<li>'dwed'</li>\n",
       "\t<li>'iwee'</li>\n",
       "</ol>\n"
      ],
      "text/latex": [
       "\\begin{enumerate*}\n",
       "\\item 'dwed'\n",
       "\\item 'iwee'\n",
       "\\end{enumerate*}\n"
      ],
      "text/markdown": [
       "1. 'dwed'\n",
       "2. 'iwee'\n",
       "\n",
       "\n"
      ],
      "text/plain": [
       "[1] \"dwed\" \"iwee\""
      ]
     },
     "metadata": {},
     "output_type": "display_data"
    }
   ],
   "source": [
    "x"
   ]
  },
  {
   "cell_type": "code",
   "execution_count": 10,
   "metadata": {},
   "outputs": [
    {
     "data": {
      "text/html": [
       "<ol class=list-inline>\n",
       "\t<li>'dweddwed'</li>\n",
       "\t<li>'iweeiweeiwee'</li>\n",
       "</ol>\n"
      ],
      "text/latex": [
       "\\begin{enumerate*}\n",
       "\\item 'dweddwed'\n",
       "\\item 'iweeiweeiwee'\n",
       "\\end{enumerate*}\n"
      ],
      "text/markdown": [
       "1. 'dweddwed'\n",
       "2. 'iweeiweeiwee'\n",
       "\n",
       "\n"
      ],
      "text/plain": [
       "[1] \"dweddwed\"     \"iweeiweeiwee\""
      ]
     },
     "metadata": {},
     "output_type": "display_data"
    }
   ],
   "source": [
    "str_dup(x,c(2,3))"
   ]
  },
  {
   "cell_type": "code",
   "execution_count": 11,
   "metadata": {},
   "outputs": [
    {
     "data": {
      "text/html": [
       "<ol class=list-inline>\n",
       "\t<li><span style=white-space:pre-wrap>'   dwed   '</span></li>\n",
       "\t<li><span style=white-space:pre-wrap>'   iwee   '</span></li>\n",
       "</ol>\n"
      ],
      "text/latex": [
       "\\begin{enumerate*}\n",
       "\\item '   dwed   '\n",
       "\\item '   iwee   '\n",
       "\\end{enumerate*}\n"
      ],
      "text/markdown": [
       "1. <span style=white-space:pre-wrap>'   dwed   '</span>\n",
       "2. <span style=white-space:pre-wrap>'   iwee   '</span>\n",
       "\n",
       "\n"
      ],
      "text/plain": [
       "[1] \"   dwed   \" \"   iwee   \""
      ]
     },
     "metadata": {},
     "output_type": "display_data"
    }
   ],
   "source": [
    "str_pad(x, 10,\"both\")"
   ]
  },
  {
   "cell_type": "code",
   "execution_count": 12,
   "metadata": {},
   "outputs": [
    {
     "data": {
      "text/html": [
       "<ol class=list-inline>\n",
       "\t<li>'dwed'</li>\n",
       "\t<li>'iwee'</li>\n",
       "</ol>\n"
      ],
      "text/latex": [
       "\\begin{enumerate*}\n",
       "\\item 'dwed'\n",
       "\\item 'iwee'\n",
       "\\end{enumerate*}\n"
      ],
      "text/markdown": [
       "1. 'dwed'\n",
       "2. 'iwee'\n",
       "\n",
       "\n"
      ],
      "text/plain": [
       "[1] \"dwed\" \"iwee\""
      ]
     },
     "metadata": {},
     "output_type": "display_data"
    }
   ],
   "source": [
    "str_pad(x, 10,\"both\")%>%str_trim()"
   ]
  },
  {
   "cell_type": "code",
   "execution_count": 13,
   "metadata": {},
   "outputs": [
    {
     "data": {
      "text/html": [
       "<ol class=list-inline>\n",
       "\t<li>'DWED'</li>\n",
       "\t<li>'IWEE'</li>\n",
       "</ol>\n"
      ],
      "text/latex": [
       "\\begin{enumerate*}\n",
       "\\item 'DWED'\n",
       "\\item 'IWEE'\n",
       "\\end{enumerate*}\n"
      ],
      "text/markdown": [
       "1. 'DWED'\n",
       "2. 'IWEE'\n",
       "\n",
       "\n"
      ],
      "text/plain": [
       "[1] \"DWED\" \"IWEE\""
      ]
     },
     "metadata": {},
     "output_type": "display_data"
    }
   ],
   "source": [
    "str_to_upper(x)"
   ]
  },
  {
   "cell_type": "code",
   "execution_count": 14,
   "metadata": {},
   "outputs": [
    {
     "data": {
      "text/html": [
       "<ol class=list-inline>\n",
       "\t<li>'Dwed'</li>\n",
       "\t<li>'Iwee'</li>\n",
       "</ol>\n"
      ],
      "text/latex": [
       "\\begin{enumerate*}\n",
       "\\item 'Dwed'\n",
       "\\item 'Iwee'\n",
       "\\end{enumerate*}\n"
      ],
      "text/markdown": [
       "1. 'Dwed'\n",
       "2. 'Iwee'\n",
       "\n",
       "\n"
      ],
      "text/plain": [
       "[1] \"Dwed\" \"Iwee\""
      ]
     },
     "metadata": {},
     "output_type": "display_data"
    }
   ],
   "source": [
    "str_to_title(x)"
   ]
  },
  {
   "cell_type": "code",
   "execution_count": null,
   "metadata": {},
   "outputs": [],
   "source": [
    "str_to_upper(x)"
   ]
  },
  {
   "cell_type": "code",
   "execution_count": 19,
   "metadata": {},
   "outputs": [
    {
     "data": {
      "text/html": [
       "<ol class=list-inline>\n",
       "\t<li>1</li>\n",
       "\t<li>2</li>\n",
       "</ol>\n"
      ],
      "text/latex": [
       "\\begin{enumerate*}\n",
       "\\item 1\n",
       "\\item 2\n",
       "\\end{enumerate*}\n"
      ],
      "text/markdown": [
       "1. 1\n",
       "2. 2\n",
       "\n",
       "\n"
      ],
      "text/plain": [
       "[1] 1 2"
      ]
     },
     "metadata": {},
     "output_type": "display_data"
    }
   ],
   "source": [
    "str_order(x)"
   ]
  },
  {
   "cell_type": "code",
   "execution_count": 20,
   "metadata": {},
   "outputs": [
    {
     "data": {
      "text/html": [
       "<ol class=list-inline>\n",
       "\t<li>'dwed'</li>\n",
       "\t<li>'iwee'</li>\n",
       "</ol>\n"
      ],
      "text/latex": [
       "\\begin{enumerate*}\n",
       "\\item 'dwed'\n",
       "\\item 'iwee'\n",
       "\\end{enumerate*}\n"
      ],
      "text/markdown": [
       "1. 'dwed'\n",
       "2. 'iwee'\n",
       "\n",
       "\n"
      ],
      "text/plain": [
       "[1] \"dwed\" \"iwee\""
      ]
     },
     "metadata": {},
     "output_type": "display_data"
    }
   ],
   "source": [
    "str_sort(x)"
   ]
  },
  {
   "cell_type": "markdown",
   "metadata": {},
   "source": [
    " ## Pattern matching\n",
    " \n",
    " detect\n",
    " \n",
    " locate\n",
    " \n",
    " extract\n",
    " \n",
    " match\n",
    " \n",
    " replace\n",
    " \n",
    " split\n",
    " \n",
    " \n",
    " "
   ]
  },
  {
   "cell_type": "code",
   "execution_count": 30,
   "metadata": {},
   "outputs": [],
   "source": [
    "strings = c(\"apple\",\"219 733 9876\",\n",
    "            \"219-733-9876\",    \n",
    "            \"work: 219 733 9876; home: 219.733.9876\")\n",
    "\n",
    "\n",
    "phone_pattern = \"([2-9][0-9]{2})[- .]([0-9]{3})[- .]([0-9]{4})\""
   ]
  },
  {
   "cell_type": "code",
   "execution_count": 31,
   "metadata": {},
   "outputs": [
    {
     "data": {
      "text/html": [
       "<ol class=list-inline>\n",
       "\t<li>FALSE</li>\n",
       "\t<li>TRUE</li>\n",
       "\t<li>TRUE</li>\n",
       "\t<li>TRUE</li>\n",
       "</ol>\n"
      ],
      "text/latex": [
       "\\begin{enumerate*}\n",
       "\\item FALSE\n",
       "\\item TRUE\n",
       "\\item TRUE\n",
       "\\item TRUE\n",
       "\\end{enumerate*}\n"
      ],
      "text/markdown": [
       "1. FALSE\n",
       "2. TRUE\n",
       "3. TRUE\n",
       "4. TRUE\n",
       "\n",
       "\n"
      ],
      "text/plain": [
       "[1] FALSE  TRUE  TRUE  TRUE"
      ]
     },
     "metadata": {},
     "output_type": "display_data"
    }
   ],
   "source": [
    "str_detect(strings, phone_pattern)"
   ]
  },
  {
   "cell_type": "code",
   "execution_count": 32,
   "metadata": {},
   "outputs": [
    {
     "data": {
      "text/html": [
       "<ol class=list-inline>\n",
       "\t<li>'219 733 9876'</li>\n",
       "\t<li>'219-733-9876'</li>\n",
       "\t<li>'work: 219 733 9876; home: 219.733.9876'</li>\n",
       "</ol>\n"
      ],
      "text/latex": [
       "\\begin{enumerate*}\n",
       "\\item '219 733 9876'\n",
       "\\item '219-733-9876'\n",
       "\\item 'work: 219 733 9876; home: 219.733.9876'\n",
       "\\end{enumerate*}\n"
      ],
      "text/markdown": [
       "1. '219 733 9876'\n",
       "2. '219-733-9876'\n",
       "3. 'work: 219 733 9876; home: 219.733.9876'\n",
       "\n",
       "\n"
      ],
      "text/plain": [
       "[1] \"219 733 9876\"                          \n",
       "[2] \"219-733-9876\"                          \n",
       "[3] \"work: 219 733 9876; home: 219.733.9876\""
      ]
     },
     "metadata": {},
     "output_type": "display_data"
    }
   ],
   "source": [
    "str_subset(strings, phone_pattern)"
   ]
  },
  {
   "cell_type": "code",
   "execution_count": 33,
   "metadata": {},
   "outputs": [
    {
     "data": {
      "text/html": [
       "<ol class=list-inline>\n",
       "\t<li>0</li>\n",
       "\t<li>1</li>\n",
       "\t<li>1</li>\n",
       "\t<li>2</li>\n",
       "</ol>\n"
      ],
      "text/latex": [
       "\\begin{enumerate*}\n",
       "\\item 0\n",
       "\\item 1\n",
       "\\item 1\n",
       "\\item 2\n",
       "\\end{enumerate*}\n"
      ],
      "text/markdown": [
       "1. 0\n",
       "2. 1\n",
       "3. 1\n",
       "4. 2\n",
       "\n",
       "\n"
      ],
      "text/plain": [
       "[1] 0 1 1 2"
      ]
     },
     "metadata": {},
     "output_type": "display_data"
    }
   ],
   "source": [
    "str_count(strings, phone_pattern)"
   ]
  },
  {
   "cell_type": "code",
   "execution_count": null,
   "metadata": {},
   "outputs": [],
   "source": []
  },
  {
   "cell_type": "code",
   "execution_count": null,
   "metadata": {},
   "outputs": [],
   "source": []
  }
 ],
 "metadata": {
  "kernelspec": {
   "display_name": "R",
   "language": "R",
   "name": "ir"
  },
  "language_info": {
   "codemirror_mode": "r",
   "file_extension": ".r",
   "mimetype": "text/x-r-source",
   "name": "R",
   "pygments_lexer": "r",
   "version": "3.4.4"
  }
 },
 "nbformat": 4,
 "nbformat_minor": 2
}
