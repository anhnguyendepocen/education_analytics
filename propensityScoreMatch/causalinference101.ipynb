{
 "cells": [
  {
   "cell_type": "code",
   "execution_count": null,
   "metadata": {},
   "outputs": [],
   "source": [
    "# Install a pip package in the current Jupyter kernel\n",
    "import sys\n",
    "!{sys.executable} -m pip install causalinference\n",
    "#!{sys.executable} -m pip install --upgrade pip"
   ]
  },
  {
   "cell_type": "code",
   "execution_count": 1,
   "metadata": {},
   "outputs": [],
   "source": [
    "from causalinference import CausalModel"
   ]
  },
  {
   "cell_type": "code",
   "execution_count": 2,
   "metadata": {},
   "outputs": [],
   "source": [
    "from causalinference.utils import random_data"
   ]
  },
  {
   "cell_type": "code",
   "execution_count": 3,
   "metadata": {},
   "outputs": [],
   "source": [
    "Y,D,X = random_data()"
   ]
  },
  {
   "cell_type": "code",
   "execution_count": 5,
   "metadata": {},
   "outputs": [
    {
     "data": {
      "text/plain": [
       "array([ 3.68701283, -5.2109153 , -0.23568421, ...,  8.68049672,\n",
       "       -1.79617721, -1.50194103])"
      ]
     },
     "execution_count": 5,
     "metadata": {},
     "output_type": "execute_result"
    }
   ],
   "source": [
    "Y"
   ]
  },
  {
   "cell_type": "code",
   "execution_count": 6,
   "metadata": {},
   "outputs": [
    {
     "data": {
      "text/plain": [
       "array([1, 0, 0, ..., 1, 0, 0])"
      ]
     },
     "execution_count": 6,
     "metadata": {},
     "output_type": "execute_result"
    }
   ],
   "source": [
    "D"
   ]
  },
  {
   "cell_type": "code",
   "execution_count": 13,
   "metadata": {},
   "outputs": [
    {
     "data": {
      "text/plain": [
       "2442"
      ]
     },
     "execution_count": 13,
     "metadata": {},
     "output_type": "execute_result"
    }
   ],
   "source": [
    "D.sum()"
   ]
  },
  {
   "cell_type": "code",
   "execution_count": 14,
   "metadata": {},
   "outputs": [
    {
     "data": {
      "text/plain": [
       "5000"
      ]
     },
     "execution_count": 14,
     "metadata": {},
     "output_type": "execute_result"
    }
   ],
   "source": [
    "len(D)"
   ]
  },
  {
   "cell_type": "code",
   "execution_count": null,
   "metadata": {},
   "outputs": [],
   "source": []
  },
  {
   "cell_type": "code",
   "execution_count": 7,
   "metadata": {},
   "outputs": [
    {
     "data": {
      "text/plain": [
       "array([[ 0.11619304, -0.69909487,  0.66829198],\n",
       "       [-0.44591012, -1.05486457, -3.08208161],\n",
       "       [ 0.11038862,  0.22503751, -1.07373702],\n",
       "       ...,\n",
       "       [ 0.25157802,  1.52187466,  0.24940663],\n",
       "       [-0.70794981, -0.59754784,  0.11156497],\n",
       "       [ 0.57657545, -1.19623804, -0.76249627]])"
      ]
     },
     "execution_count": 7,
     "metadata": {},
     "output_type": "execute_result"
    }
   ],
   "source": [
    "X"
   ]
  },
  {
   "cell_type": "code",
   "execution_count": 9,
   "metadata": {},
   "outputs": [],
   "source": [
    "causal = CausalModel(Y,D,X)"
   ]
  },
  {
   "cell_type": "code",
   "execution_count": 10,
   "metadata": {},
   "outputs": [
    {
     "name": "stdout",
     "output_type": "stream",
     "text": [
      "Help on CausalModel in module causalinference.causal object:\n",
      "\n",
      "class CausalModel(builtins.object)\n",
      " |  Class that provides the main tools of Causal Inference.\n",
      " |  \n",
      " |  Methods defined here:\n",
      " |  \n",
      " |  __init__(self, Y, D, X)\n",
      " |      Initialize self.  See help(type(self)) for accurate signature.\n",
      " |  \n",
      " |  est_propensity(self, lin='all', qua=None)\n",
      " |      Estimates the propensity scores given list of covariates to\n",
      " |      include linearly or quadratically.\n",
      " |      \n",
      " |      The propensity score is the conditional probability of\n",
      " |      receiving the treatment given the observed covariates.\n",
      " |      Estimation is done via a logistic regression.\n",
      " |      \n",
      " |      Parameters\n",
      " |      ----------\n",
      " |      lin: string or list, optional\n",
      " |              Column numbers (zero-based) of variables of\n",
      " |              the original covariate matrix X to include\n",
      " |              linearly. Defaults to the string 'all', which\n",
      " |              uses whole covariate matrix.\n",
      " |      qua: list, optional\n",
      " |              Tuples indicating which columns of the original\n",
      " |              covariate matrix to multiply and include. E.g.,\n",
      " |              [(1,1), (2,3)] indicates squaring the 2nd column\n",
      " |              and including the product of the 3rd and 4th\n",
      " |              columns. Default is to not include any\n",
      " |              quadratic terms.\n",
      " |  \n",
      " |  est_propensity_s(self, lin_B=None, C_lin=1, C_qua=2.71)\n",
      " |      Estimates the propensity score with covariates selected using\n",
      " |      the algorithm suggested by [1]_.\n",
      " |      \n",
      " |      The propensity score is the conditional probability of\n",
      " |      receiving the treatment given the observed covariates.\n",
      " |      Estimation is done via a logistic regression.\n",
      " |      \n",
      " |      The covariate selection algorithm is based on a sequence\n",
      " |      of likelihood ratio tests.\n",
      " |      \n",
      " |      Parameters\n",
      " |      ----------\n",
      " |      lin_B: list, optional\n",
      " |              Column numbers (zero-based) of variables of\n",
      " |              the original covariate matrix X to include\n",
      " |              linearly. Defaults to empty list, meaning\n",
      " |              every column of X is subjected to the\n",
      " |              selection algorithm.\n",
      " |      C_lin: scalar, optional\n",
      " |              Critical value used in likelihood ratio tests\n",
      " |              to decide whether candidate linear terms should\n",
      " |              be included. Defaults to 1 as in [1]_.\n",
      " |      C_qua: scalar, optional\n",
      " |              Critical value used in likelihood ratio tests\n",
      " |              to decide whether candidate quadratic terms\n",
      " |              should be included. Defaults to 2.71 as in\n",
      " |              [1]_.\n",
      " |      \n",
      " |      References\n",
      " |      ----------\n",
      " |      .. [1] Imbens, G. & Rubin, D. (2015). Causal Inference in\n",
      " |              Statistics, Social, and Biomedical Sciences: An\n",
      " |              Introduction.\n",
      " |  \n",
      " |  est_via_blocking(self, adj=1)\n",
      " |      Estimates average treatment effects using regression within\n",
      " |      blocks.\n",
      " |      \n",
      " |      This method should only be executed after the sample has been\n",
      " |      stratified.\n",
      " |      \n",
      " |      Parameters\n",
      " |      ----------\n",
      " |      adj: int (0, 1, or 2)\n",
      " |              Indicates how covariate adjustments are to be\n",
      " |              performed for each within-bin regression.\n",
      " |              Set adj = 0 to not include any covariates.\n",
      " |              Set adj = 1 to include treatment indicator D\n",
      " |              and covariates X separately. Set adj = 2 to\n",
      " |              additionally include interaction terms between\n",
      " |              D and X. Defaults to 1.\n",
      " |  \n",
      " |  est_via_matching(self, weights='inv', matches=1, bias_adj=False)\n",
      " |      Estimates average treatment effects using nearest-\n",
      " |      neighborhood matching.\n",
      " |      \n",
      " |      Matching is done with replacement. Method supports multiple\n",
      " |      matching. Correcting bias that arise due to imperfect matches\n",
      " |      is also supported. For details on methodology, see [1]_.\n",
      " |      \n",
      " |      Parameters\n",
      " |      ----------\n",
      " |      weights: str or positive definite square matrix\n",
      " |              Specifies weighting matrix used in computing\n",
      " |              distance measures. Defaults to string 'inv',\n",
      " |              which does inverse variance weighting. String\n",
      " |              'maha' gives the weighting matrix used in the\n",
      " |              Mahalanobis metric.\n",
      " |      matches: int\n",
      " |              Number of matches to use for each subject.\n",
      " |      bias_adj: bool\n",
      " |              Specifies whether bias adjustments should be\n",
      " |              attempted.\n",
      " |      \n",
      " |      References\n",
      " |      ----------\n",
      " |      .. [1] Imbens, G. & Rubin, D. (2015). Causal Inference in\n",
      " |              Statistics, Social, and Biomedical Sciences: An\n",
      " |              Introduction.\n",
      " |  \n",
      " |  est_via_ols(self, adj=2)\n",
      " |      Estimates average treatment effects using least squares.\n",
      " |      \n",
      " |      Parameters\n",
      " |      ----------\n",
      " |      adj: int (0, 1, or 2)\n",
      " |              Indicates how covariate adjustments are to be\n",
      " |              performed. Set adj = 0 to not include any\n",
      " |              covariates.  Set adj = 1 to include treatment\n",
      " |              indicator D and covariates X separately. Set\n",
      " |              adj = 2 to additionally include interaction\n",
      " |              terms between D and X. Defaults to 2.\n",
      " |  \n",
      " |  est_via_weighting(self)\n",
      " |      Estimates average treatment effects using doubly-robust\n",
      " |      version of the Horvitz-Thompson weighting estimator.\n",
      " |  \n",
      " |  reset(self)\n",
      " |      Reinitializes data to original inputs, and drops any estimated\n",
      " |      results.\n",
      " |  \n",
      " |  stratify(self)\n",
      " |      Stratifies the sample based on propensity score.\n",
      " |      \n",
      " |      By default the sample is divided into five equal-sized bins.\n",
      " |      The number of bins can be set by modifying the object\n",
      " |      attribute named blocks. Alternatively, custom-sized bins can\n",
      " |      be created by setting blocks equal to a sorted list of numbers\n",
      " |      between 0 and 1 indicating the bin boundaries.\n",
      " |      \n",
      " |      This method should only be executed after the propensity score\n",
      " |      has been estimated.\n",
      " |  \n",
      " |  stratify_s(self)\n",
      " |      Stratifies the sample based on propensity score using the\n",
      " |      bin selection procedure suggested by [1]_.\n",
      " |      \n",
      " |      The bin selection algorithm is based on a sequence of\n",
      " |      two-sample t tests performed on the log-odds ratio.\n",
      " |      \n",
      " |      This method should only be executed after the propensity score\n",
      " |      has been estimated.\n",
      " |      \n",
      " |      References\n",
      " |      ----------\n",
      " |      .. [1] Imbens, G. & Rubin, D. (2015). Causal Inference in\n",
      " |              Statistics, Social, and Biomedical Sciences: An\n",
      " |              Introduction.\n",
      " |  \n",
      " |  trim(self)\n",
      " |      Trims data based on propensity score to create a subsample with\n",
      " |      better covariate balance.\n",
      " |      \n",
      " |      The default cutoff value is set to 0.1. To set a custom cutoff\n",
      " |      value, modify the object attribute named cutoff directly.\n",
      " |      \n",
      " |      This method should only be executed after the propensity score\n",
      " |      has been estimated.\n",
      " |  \n",
      " |  trim_s(self)\n",
      " |      Trims data based on propensity score using the cutoff\n",
      " |      selection algorithm suggested by [1]_.\n",
      " |      \n",
      " |      This method should only be executed after the propensity score\n",
      " |      has been estimated.\n",
      " |      \n",
      " |      References\n",
      " |      ----------\n",
      " |      .. [1] Crump, R., Hotz, V., Imbens, G., & Mitnik, O. (2009).\n",
      " |              Dealing with Limited Overlap in Estimation of\n",
      " |              Average Treatment Effects. Biometrika, 96, 187-199.\n",
      " |  \n",
      " |  ----------------------------------------------------------------------\n",
      " |  Data descriptors defined here:\n",
      " |  \n",
      " |  __dict__\n",
      " |      dictionary for instance variables (if defined)\n",
      " |  \n",
      " |  __weakref__\n",
      " |      list of weak references to the object (if defined)\n",
      "\n"
     ]
    }
   ],
   "source": [
    "help(causal)"
   ]
  },
  {
   "cell_type": "code",
   "execution_count": 11,
   "metadata": {},
   "outputs": [
    {
     "name": "stdout",
     "output_type": "stream",
     "text": [
      "\n",
      "Summary Statistics\n",
      "\n",
      "                      Controls (N_c=2558)        Treated (N_t=2442)             \n",
      "       Variable         Mean         S.d.         Mean         S.d.     Raw-diff\n",
      "--------------------------------------------------------------------------------\n",
      "              Y       -0.960        1.719        5.007        3.107        5.966\n",
      "\n",
      "                      Controls (N_c=2558)        Treated (N_t=2442)             \n",
      "       Variable         Mean         S.d.         Mean         S.d.     Nor-diff\n",
      "--------------------------------------------------------------------------------\n",
      "             X0       -0.300        0.939        0.330        0.940        0.670\n",
      "             X1       -0.315        0.951        0.334        0.964        0.678\n",
      "             X2       -0.366        0.947        0.332        0.948        0.736\n",
      "\n"
     ]
    }
   ],
   "source": [
    "print(causal.summary_stats)"
   ]
  },
  {
   "cell_type": "code",
   "execution_count": 19,
   "metadata": {},
   "outputs": [
    {
     "name": "stderr",
     "output_type": "stream",
     "text": [
      "/home/jon/anaconda3/envs/fastai/lib/python3.6/site-packages/causalinference/estimators/ols.py:21: FutureWarning: `rcond` parameter will change to the default of machine precision times ``max(M, N)`` where M and N are the input matrix dimensions.\n",
      "To use the future default and silence this warning we advise to pass `rcond=None`, to keep using the old, explicitly pass `rcond=-1`.\n",
      "  olscoef = np.linalg.lstsq(Z, Y)[0]\n"
     ]
    }
   ],
   "source": [
    "causal.est_via_ols()"
   ]
  },
  {
   "cell_type": "code",
   "execution_count": 20,
   "metadata": {},
   "outputs": [
    {
     "name": "stdout",
     "output_type": "stream",
     "text": [
      "\n",
      "Treatment Effect Estimates: OLS\n",
      "\n",
      "                     Est.       S.e.          z      P>|z|      [95% Conf. int.]\n",
      "--------------------------------------------------------------------------------\n",
      "           ATE      2.977      0.034     88.070      0.000      2.911      3.043\n",
      "           ATC      2.005      0.039     51.076      0.000      1.928      2.082\n",
      "           ATT      3.995      0.038    103.955      0.000      3.920      4.070\n",
      "\n"
     ]
    }
   ],
   "source": [
    "print(causal.estimates)"
   ]
  },
  {
   "cell_type": "code",
   "execution_count": 21,
   "metadata": {},
   "outputs": [],
   "source": [
    "causal.est_propensity_s()"
   ]
  },
  {
   "cell_type": "code",
   "execution_count": 22,
   "metadata": {},
   "outputs": [
    {
     "name": "stdout",
     "output_type": "stream",
     "text": [
      "\n",
      "Estimated Parameters of Propensity Score\n",
      "\n",
      "                    Coef.       S.e.          z      P>|z|      [95% Conf. int.]\n",
      "--------------------------------------------------------------------------------\n",
      "     Intercept     -0.032      0.036     -0.898      0.369     -0.102      0.038\n",
      "            X2      1.030      0.041     25.007      0.000      0.949      1.111\n",
      "            X1      0.967      0.041     23.845      0.000      0.887      1.046\n",
      "            X0      0.970      0.041     23.623      0.000      0.889      1.050\n",
      "         X2*X0      0.077      0.041      1.885      0.059     -0.003      0.157\n",
      "\n"
     ]
    }
   ],
   "source": [
    "print(causal.propensity)"
   ]
  },
  {
   "cell_type": "code",
   "execution_count": 23,
   "metadata": {},
   "outputs": [
    {
     "data": {
      "text/plain": [
       "array([0.52480921, 0.0104286 , 0.30524781, ..., 0.87485764, 0.23375874,\n",
       "       0.19029035])"
      ]
     },
     "execution_count": 23,
     "metadata": {},
     "output_type": "execute_result"
    }
   ],
   "source": [
    "causal.propensity[\"fitted\"]"
   ]
  },
  {
   "cell_type": "code",
   "execution_count": 12,
   "metadata": {},
   "outputs": [],
   "source": [
    "#causal.est_propensity()"
   ]
  },
  {
   "cell_type": "code",
   "execution_count": 24,
   "metadata": {},
   "outputs": [],
   "source": [
    "causal.trim_s()"
   ]
  },
  {
   "cell_type": "code",
   "execution_count": 25,
   "metadata": {},
   "outputs": [
    {
     "data": {
      "text/plain": [
       "0.09889325356871048"
      ]
     },
     "execution_count": 25,
     "metadata": {},
     "output_type": "execute_result"
    }
   ],
   "source": [
    "causal.cutoff"
   ]
  },
  {
   "cell_type": "code",
   "execution_count": 26,
   "metadata": {},
   "outputs": [
    {
     "name": "stdout",
     "output_type": "stream",
     "text": [
      "\n",
      "Summary Statistics\n",
      "\n",
      "                      Controls (N_c=2063)        Treated (N_t=1948)             \n",
      "       Variable         Mean         S.d.         Mean         S.d.     Raw-diff\n",
      "--------------------------------------------------------------------------------\n",
      "              Y       -0.515        1.429        4.071        2.278        4.587\n",
      "\n",
      "                      Controls (N_c=2063)        Treated (N_t=1948)             \n",
      "       Variable         Mean         S.d.         Mean         S.d.     Nor-diff\n",
      "--------------------------------------------------------------------------------\n",
      "             X0       -0.153        0.883        0.186        0.890        0.382\n",
      "             X1       -0.170        0.892        0.183        0.896        0.395\n",
      "             X2       -0.212        0.882        0.161        0.871        0.426\n",
      "\n"
     ]
    }
   ],
   "source": [
    "print(causal.summary_stats)"
   ]
  },
  {
   "cell_type": "code",
   "execution_count": 27,
   "metadata": {},
   "outputs": [],
   "source": [
    "causal.stratify_s()"
   ]
  },
  {
   "cell_type": "code",
   "execution_count": 29,
   "metadata": {},
   "outputs": [
    {
     "name": "stdout",
     "output_type": "stream",
     "text": [
      "\n",
      "Stratification Summary\n",
      "\n",
      "              Propensity Score         Sample Size     Ave. Propensity   Outcome\n",
      "   Stratum      Min.      Max.  Controls   Treated  Controls   Treated  Raw-diff\n",
      "--------------------------------------------------------------------------------\n",
      "         1     0.099     0.180       429        74     0.138     0.142     1.253\n",
      "         2     0.180     0.227       205        46     0.204     0.204     1.796\n",
      "         3     0.227     0.276       179        71     0.252     0.254     2.070\n",
      "         4     0.277     0.372       327       174     0.321     0.326     2.154\n",
      "         5     0.372     0.482       302       199     0.425     0.429     2.796\n",
      "         6     0.482     0.595       241       261     0.534     0.539     3.234\n",
      "         7     0.595     0.699       165       336     0.642     0.646     3.675\n",
      "         8     0.699     0.796       136       365     0.744     0.749     4.291\n",
      "         9     0.797     0.901        79       422     0.845     0.850     4.651\n",
      "\n"
     ]
    }
   ],
   "source": [
    "print(causal.strata)"
   ]
  },
  {
   "cell_type": "code",
   "execution_count": 31,
   "metadata": {},
   "outputs": [
    {
     "name": "stderr",
     "output_type": "stream",
     "text": [
      "/home/jon/anaconda3/envs/fastai/lib/python3.6/site-packages/causalinference/estimators/ols.py:21: FutureWarning: `rcond` parameter will change to the default of machine precision times ``max(M, N)`` where M and N are the input matrix dimensions.\n",
      "To use the future default and silence this warning we advise to pass `rcond=None`, to keep using the old, explicitly pass `rcond=-1`.\n",
      "  olscoef = np.linalg.lstsq(Z, Y)[0]\n"
     ]
    }
   ],
   "source": [
    "for stratum in causal.strata:\n",
    "    stratum.est_via_ols(adj =1)"
   ]
  },
  {
   "cell_type": "code",
   "execution_count": 32,
   "metadata": {},
   "outputs": [
    {
     "name": "stderr",
     "output_type": "stream",
     "text": [
      "/home/jon/anaconda3/envs/fastai/lib/python3.6/site-packages/causalinference/estimators/ols.py:21: FutureWarning: `rcond` parameter will change to the default of machine precision times ``max(M, N)`` where M and N are the input matrix dimensions.\n",
      "To use the future default and silence this warning we advise to pass `rcond=None`, to keep using the old, explicitly pass `rcond=-1`.\n",
      "  olscoef = np.linalg.lstsq(Z, Y)[0]\n"
     ]
    }
   ],
   "source": [
    "causal.est_via_blocking()"
   ]
  },
  {
   "cell_type": "code",
   "execution_count": 34,
   "metadata": {},
   "outputs": [
    {
     "name": "stdout",
     "output_type": "stream",
     "text": [
      "\n",
      "Treatment Effect Estimates: Blocking\n",
      "\n",
      "                     Est.       S.e.          z      P>|z|      [95% Conf. int.]\n",
      "--------------------------------------------------------------------------------\n",
      "           ATE      2.962      0.037     80.550      0.000      2.890      3.034\n",
      "           ATC      2.471      0.042     58.361      0.000      2.388      2.553\n",
      "           ATT      3.482      0.040     86.123      0.000      3.402      3.561\n",
      "\n"
     ]
    }
   ],
   "source": [
    "print(causal.estimates)"
   ]
  },
  {
   "cell_type": "code",
   "execution_count": 35,
   "metadata": {},
   "outputs": [],
   "source": [
    "causal.est_via_matching()"
   ]
  },
  {
   "cell_type": "code",
   "execution_count": 36,
   "metadata": {},
   "outputs": [
    {
     "name": "stdout",
     "output_type": "stream",
     "text": [
      "\n",
      "Treatment Effect Estimates: Blocking\n",
      "\n",
      "                     Est.       S.e.          z      P>|z|      [95% Conf. int.]\n",
      "--------------------------------------------------------------------------------\n",
      "           ATE      2.962      0.037     80.550      0.000      2.890      3.034\n",
      "           ATC      2.471      0.042     58.361      0.000      2.388      2.553\n",
      "           ATT      3.482      0.040     86.123      0.000      3.402      3.561\n",
      "\n",
      "Treatment Effect Estimates: Matching\n",
      "\n",
      "                     Est.       S.e.          z      P>|z|      [95% Conf. int.]\n",
      "--------------------------------------------------------------------------------\n",
      "           ATE      3.042      0.070     43.732      0.000      2.906      3.178\n",
      "           ATC      2.569      0.082     31.423      0.000      2.409      2.730\n",
      "           ATT      3.543      0.082     43.092      0.000      3.381      3.704\n",
      "\n"
     ]
    }
   ],
   "source": [
    "print(causal.estimates)"
   ]
  },
  {
   "cell_type": "code",
   "execution_count": 37,
   "metadata": {},
   "outputs": [
    {
     "name": "stderr",
     "output_type": "stream",
     "text": [
      "/home/jon/anaconda3/envs/fastai/lib/python3.6/site-packages/causalinference/estimators/weighting.py:23: FutureWarning: `rcond` parameter will change to the default of machine precision times ``max(M, N)`` where M and N are the input matrix dimensions.\n",
      "To use the future default and silence this warning we advise to pass `rcond=None`, to keep using the old, explicitly pass `rcond=-1`.\n",
      "  wlscoef = np.linalg.lstsq(Z_w, Y_w)[0]\n"
     ]
    }
   ],
   "source": [
    "causal.est_via_weighting()"
   ]
  },
  {
   "cell_type": "code",
   "execution_count": 38,
   "metadata": {},
   "outputs": [
    {
     "name": "stdout",
     "output_type": "stream",
     "text": [
      "\n",
      "Treatment Effect Estimates: Blocking\n",
      "\n",
      "                     Est.       S.e.          z      P>|z|      [95% Conf. int.]\n",
      "--------------------------------------------------------------------------------\n",
      "           ATE      2.962      0.037     80.550      0.000      2.890      3.034\n",
      "           ATC      2.471      0.042     58.361      0.000      2.388      2.553\n",
      "           ATT      3.482      0.040     86.123      0.000      3.402      3.561\n",
      "\n",
      "Treatment Effect Estimates: Matching\n",
      "\n",
      "                     Est.       S.e.          z      P>|z|      [95% Conf. int.]\n",
      "--------------------------------------------------------------------------------\n",
      "           ATE      3.042      0.070     43.732      0.000      2.906      3.178\n",
      "           ATC      2.569      0.082     31.423      0.000      2.409      2.730\n",
      "           ATT      3.543      0.082     43.092      0.000      3.381      3.704\n",
      "\n",
      "Treatment Effect Estimates: Weighting\n",
      "\n",
      "                     Est.       S.e.          z      P>|z|      [95% Conf. int.]\n",
      "--------------------------------------------------------------------------------\n",
      "           ATE      2.971      0.041     72.011      0.000      2.890      3.052\n",
      "\n"
     ]
    }
   ],
   "source": [
    "print(causal.estimates)"
   ]
  },
  {
   "cell_type": "code",
   "execution_count": null,
   "metadata": {},
   "outputs": [],
   "source": []
  },
  {
   "cell_type": "code",
   "execution_count": null,
   "metadata": {},
   "outputs": [],
   "source": []
  },
  {
   "cell_type": "code",
   "execution_count": null,
   "metadata": {},
   "outputs": [],
   "source": []
  },
  {
   "cell_type": "code",
   "execution_count": null,
   "metadata": {},
   "outputs": [],
   "source": []
  }
 ],
 "metadata": {
  "kernelspec": {
   "display_name": "Python [conda env:fastai]",
   "language": "python",
   "name": "conda-env-fastai-py"
  },
  "language_info": {
   "codemirror_mode": {
    "name": "ipython",
    "version": 3
   },
   "file_extension": ".py",
   "mimetype": "text/x-python",
   "name": "python",
   "nbconvert_exporter": "python",
   "pygments_lexer": "ipython3",
   "version": "3.6.5"
  }
 },
 "nbformat": 4,
 "nbformat_minor": 2
}
