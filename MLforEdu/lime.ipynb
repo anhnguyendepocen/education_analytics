{
 "cells": [
  {
   "cell_type": "markdown",
   "metadata": {},
   "source": [
    "\n",
    "\n",
    "\n",
    "\n",
    "https://shiring.github.io/machine_learning/2017/04/23/lime\n",
    "\n",
    "https://shiring.github.io/machine_learning/2017/04/23/one_r"
   ]
  },
  {
   "cell_type": "code",
   "execution_count": null,
   "metadata": {},
   "outputs": [],
   "source": []
  },
  {
   "cell_type": "code",
   "execution_count": 1,
   "metadata": {},
   "outputs": [
    {
     "ename": "NameError",
     "evalue": "name 'install' is not defined",
     "output_type": "error",
     "traceback": [
      "\u001b[0;31m---------------------------------------------------------------------------\u001b[0m",
      "\u001b[0;31mNameError\u001b[0m                                 Traceback (most recent call last)",
      "\u001b[0;32m<ipython-input-1-7a92e0700ec1>\u001b[0m in \u001b[0;36m<module>\u001b[0;34m()\u001b[0m\n\u001b[0;32m----> 1\u001b[0;31m \u001b[0minstall\u001b[0m\u001b[0;34m.\u001b[0m\u001b[0mpackages\u001b[0m\u001b[0;34m(\u001b[0m\u001b[0;34m\"tidyquant\"\u001b[0m\u001b[0;34m)\u001b[0m\u001b[0;34m\u001b[0m\u001b[0m\n\u001b[0m",
      "\u001b[0;31mNameError\u001b[0m: name 'install' is not defined"
     ]
    }
   ],
   "source": [
    "#install.packages(\"tidyquant\")"
   ]
  },
  {
   "cell_type": "code",
   "execution_count": 3,
   "metadata": {},
   "outputs": [
    {
     "name": "stderr",
     "output_type": "stream",
     "text": [
      "Installing package into ‘/home/jon/R/x86_64-pc-linux-gnu-library/3.4’\n",
      "(as ‘lib’ is unspecified)\n",
      "also installing the dependency ‘RCurl’\n",
      "\n"
     ]
    }
   ],
   "source": [
    "#install.packages(\"h2o\")"
   ]
  },
  {
   "cell_type": "code",
   "execution_count": 6,
   "metadata": {},
   "outputs": [
    {
     "name": "stderr",
     "output_type": "stream",
     "text": [
      "Installing package into ‘/home/jon/R/x86_64-pc-linux-gnu-library/3.4’\n",
      "(as ‘lib’ is unspecified)\n",
      "Warning message:\n",
      "“package ‘matick’ is not available (for R version 3.4.4)”"
     ]
    }
   ],
   "source": []
  },
  {
   "cell_type": "code",
   "execution_count": 7,
   "metadata": {},
   "outputs": [
    {
     "name": "stderr",
     "output_type": "stream",
     "text": [
      "Installing package into ‘/home/jon/R/x86_64-pc-linux-gnu-library/3.4’\n",
      "(as ‘lib’ is unspecified)\n",
      "also installing the dependency ‘magick’\n",
      "\n"
     ]
    }
   ],
   "source": [
    "#install.packages(\"lime\")\n",
    "# from Terminal:\n",
    "# sudo apt-get install libmagick++-dev\n",
    "\n",
    "# I then installed LIME (from CRAN) with no problems.\n",
    "# Yay! LIME finally installed OK :-)"
   ]
  },
  {
   "cell_type": "code",
   "execution_count": 1,
   "metadata": {},
   "outputs": [
    {
     "name": "stderr",
     "output_type": "stream",
     "text": [
      "Loading required package: lubridate\n",
      "\n",
      "Attaching package: ‘lubridate’\n",
      "\n",
      "The following object is masked from ‘package:base’:\n",
      "\n",
      "    date\n",
      "\n",
      "Loading required package: PerformanceAnalytics\n",
      "Loading required package: xts\n",
      "Loading required package: zoo\n",
      "\n",
      "Attaching package: ‘zoo’\n",
      "\n",
      "The following objects are masked from ‘package:base’:\n",
      "\n",
      "    as.Date, as.Date.numeric\n",
      "\n",
      "\n",
      "Attaching package: ‘PerformanceAnalytics’\n",
      "\n",
      "The following object is masked from ‘package:graphics’:\n",
      "\n",
      "    legend\n",
      "\n",
      "Loading required package: quantmod\n",
      "Loading required package: TTR\n",
      "Version 0.4-0 included new data defaults. See ?getSymbols.\n",
      "Loading required package: tidyverse\n",
      "── Attaching packages ─────────────────────────────────────── tidyverse 1.2.1 ──\n",
      "✔ ggplot2 2.2.1     ✔ purrr   0.2.5\n",
      "✔ tibble  1.4.2     ✔ dplyr   0.7.5\n",
      "✔ tidyr   0.8.1     ✔ stringr 1.3.1\n",
      "✔ readr   1.1.1     ✔ forcats 0.3.0\n",
      "── Conflicts ────────────────────────────────────────── tidyverse_conflicts() ──\n",
      "✖ lubridate::as.difftime() masks base::as.difftime()\n",
      "✖ lubridate::date()        masks base::date()\n",
      "✖ dplyr::filter()          masks stats::filter()\n",
      "✖ dplyr::first()           masks xts::first()\n",
      "✖ lubridate::intersect()   masks base::intersect()\n",
      "✖ dplyr::lag()             masks stats::lag()\n",
      "✖ dplyr::last()            masks xts::last()\n",
      "✖ lubridate::setdiff()     masks base::setdiff()\n",
      "✖ lubridate::union()       masks base::union()\n",
      "\n",
      "----------------------------------------------------------------------\n",
      "\n",
      "Your next step is to start H2O:\n",
      "    > h2o.init()\n",
      "\n",
      "For H2O package documentation, ask for help:\n",
      "    > ??h2o\n",
      "\n",
      "After starting H2O, you can use the Web UI at http://localhost:54321\n",
      "For more information visit http://docs.h2o.ai\n",
      "\n",
      "----------------------------------------------------------------------\n",
      "\n",
      "\n",
      "Attaching package: ‘h2o’\n",
      "\n",
      "The following objects are masked from ‘package:lubridate’:\n",
      "\n",
      "    day, hour, month, week, year\n",
      "\n",
      "The following objects are masked from ‘package:stats’:\n",
      "\n",
      "    cor, sd, var\n",
      "\n",
      "The following objects are masked from ‘package:base’:\n",
      "\n",
      "    ||, &&, %*%, apply, as.factor, as.numeric, colnames, colnames<-,\n",
      "    ifelse, %in%, is.character, is.factor, is.numeric, log, log10,\n",
      "    log1p, log2, round, signif, trunc\n",
      "\n",
      "\n",
      "Attaching package: ‘lime’\n",
      "\n",
      "The following object is masked from ‘package:dplyr’:\n",
      "\n",
      "    explain\n",
      "\n"
     ]
    }
   ],
   "source": [
    "# Load the following packages\n",
    "library(tidyquant)  # Loads tidyverse and several other pkgs \n",
    "library(readxl)     # Super simple excel reader\n",
    "library(h2o)        # Professional grade ML pkg\n",
    "library(lime)       # Explain complex black-box ML models"
   ]
  },
  {
   "cell_type": "code",
   "execution_count": 2,
   "metadata": {},
   "outputs": [],
   "source": [
    "# Read excel data\n",
    "hr_data_raw <- read_excel(path = \"data/WA_Fn-UseC_-HR-Employee-Attrition.xlsx\")"
   ]
  },
  {
   "cell_type": "code",
   "execution_count": 3,
   "metadata": {},
   "outputs": [
    {
     "data": {
      "text/html": [
       "<table>\n",
       "<thead><tr><th scope=col>Age</th><th scope=col>Attrition</th><th scope=col>BusinessTravel</th><th scope=col>DailyRate</th><th scope=col>Department</th><th scope=col>DistanceFromHome</th><th scope=col>Education</th><th scope=col>EducationField</th><th scope=col>EmployeeCount</th><th scope=col>EmployeeNumber</th><th scope=col>⋯</th><th scope=col>RelationshipSatisfaction</th><th scope=col>StandardHours</th><th scope=col>StockOptionLevel</th><th scope=col>TotalWorkingYears</th><th scope=col>TrainingTimesLastYear</th><th scope=col>WorkLifeBalance</th><th scope=col>YearsAtCompany</th><th scope=col>YearsInCurrentRole</th><th scope=col>YearsSinceLastPromotion</th><th scope=col>YearsWithCurrManager</th></tr></thead>\n",
       "<tbody>\n",
       "\t<tr><td>41                    </td><td>Yes                   </td><td>Travel_Rarely         </td><td>1102                  </td><td>Sales                 </td><td> 1                    </td><td>2                     </td><td>Life Sciences         </td><td>1                     </td><td> 1                    </td><td>⋯                     </td><td>1                     </td><td>80                    </td><td>0                     </td><td> 8                    </td><td>0                     </td><td>1                     </td><td> 6                    </td><td>4                     </td><td>0                     </td><td>5                     </td></tr>\n",
       "\t<tr><td>49                        </td><td>No                        </td><td>Travel_Frequently         </td><td> 279                      </td><td>Research &amp; Development</td><td> 8                        </td><td>1                         </td><td>Life Sciences             </td><td>1                         </td><td> 2                        </td><td>⋯                         </td><td>4                         </td><td>80                        </td><td>1                         </td><td>10                        </td><td>3                         </td><td>3                         </td><td>10                        </td><td>7                         </td><td>1                         </td><td>7                         </td></tr>\n",
       "\t<tr><td>37                                                       </td><td>Yes                                                      </td><td><span style=white-space:pre-wrap>Travel_Rarely    </span></td><td>1373                                                     </td><td>Research &amp; Development                               </td><td> 2                                                       </td><td>2                                                        </td><td><span style=white-space:pre-wrap>Other        </span>    </td><td>1                                                        </td><td> 4                                                       </td><td>⋯                                                        </td><td>2                                                        </td><td>80                                                       </td><td>0                                                        </td><td> 7                                                       </td><td>3                                                        </td><td>3                                                        </td><td> 0                                                       </td><td>0                                                        </td><td>0                                                        </td><td>0                                                        </td></tr>\n",
       "\t<tr><td>33                        </td><td>No                        </td><td>Travel_Frequently         </td><td>1392                      </td><td>Research &amp; Development</td><td> 3                        </td><td>4                         </td><td>Life Sciences             </td><td>1                         </td><td> 5                        </td><td>⋯                         </td><td>3                         </td><td>80                        </td><td>0                         </td><td> 8                        </td><td>3                         </td><td>3                         </td><td> 8                        </td><td>7                         </td><td>3                         </td><td>0                         </td></tr>\n",
       "\t<tr><td>27                                                       </td><td>No                                                       </td><td><span style=white-space:pre-wrap>Travel_Rarely    </span></td><td> 591                                                     </td><td>Research &amp; Development                               </td><td> 2                                                       </td><td>1                                                        </td><td><span style=white-space:pre-wrap>Medical      </span>    </td><td>1                                                        </td><td> 7                                                       </td><td>⋯                                                        </td><td>4                                                        </td><td>80                                                       </td><td>1                                                        </td><td> 6                                                       </td><td>3                                                        </td><td>3                                                        </td><td> 2                                                       </td><td>2                                                        </td><td>2                                                        </td><td>2                                                        </td></tr>\n",
       "\t<tr><td>32                        </td><td>No                        </td><td>Travel_Frequently         </td><td>1005                      </td><td>Research &amp; Development</td><td> 2                        </td><td>2                         </td><td>Life Sciences             </td><td>1                         </td><td> 8                        </td><td>⋯                         </td><td>3                         </td><td>80                        </td><td>0                         </td><td> 8                        </td><td>2                         </td><td>2                         </td><td> 7                        </td><td>7                         </td><td>3                         </td><td>6                         </td></tr>\n",
       "\t<tr><td>59                                                       </td><td>No                                                       </td><td><span style=white-space:pre-wrap>Travel_Rarely    </span></td><td>1324                                                     </td><td>Research &amp; Development                               </td><td> 3                                                       </td><td>3                                                        </td><td><span style=white-space:pre-wrap>Medical      </span>    </td><td>1                                                        </td><td>10                                                       </td><td>⋯                                                        </td><td>1                                                        </td><td>80                                                       </td><td>3                                                        </td><td>12                                                       </td><td>3                                                        </td><td>2                                                        </td><td> 1                                                       </td><td>0                                                        </td><td>0                                                        </td><td>0                                                        </td></tr>\n",
       "\t<tr><td>30                                                       </td><td>No                                                       </td><td><span style=white-space:pre-wrap>Travel_Rarely    </span></td><td>1358                                                     </td><td>Research &amp; Development                               </td><td>24                                                       </td><td>1                                                        </td><td>Life Sciences                                            </td><td>1                                                        </td><td>11                                                       </td><td>⋯                                                        </td><td>2                                                        </td><td>80                                                       </td><td>1                                                        </td><td> 1                                                       </td><td>2                                                        </td><td>3                                                        </td><td> 1                                                       </td><td>0                                                        </td><td>0                                                        </td><td>0                                                        </td></tr>\n",
       "\t<tr><td>38                        </td><td>No                        </td><td>Travel_Frequently         </td><td> 216                      </td><td>Research &amp; Development</td><td>23                        </td><td>3                         </td><td>Life Sciences             </td><td>1                         </td><td>12                        </td><td>⋯                         </td><td>2                         </td><td>80                        </td><td>0                         </td><td>10                        </td><td>2                         </td><td>3                         </td><td> 9                        </td><td>7                         </td><td>1                         </td><td>8                         </td></tr>\n",
       "\t<tr><td>36                                                       </td><td>No                                                       </td><td><span style=white-space:pre-wrap>Travel_Rarely    </span></td><td>1299                                                     </td><td>Research &amp; Development                               </td><td>27                                                       </td><td>3                                                        </td><td><span style=white-space:pre-wrap>Medical      </span>    </td><td>1                                                        </td><td>13                                                       </td><td>⋯                                                        </td><td>2                                                        </td><td>80                                                       </td><td>2                                                        </td><td>17                                                       </td><td>3                                                        </td><td>2                                                        </td><td> 7                                                       </td><td>7                                                        </td><td>7                                                        </td><td>7                                                        </td></tr>\n",
       "</tbody>\n",
       "</table>\n"
      ],
      "text/latex": [
       "\\begin{tabular}{r|lllllllllllllllllllllllllllllllllll}\n",
       " Age & Attrition & BusinessTravel & DailyRate & Department & DistanceFromHome & Education & EducationField & EmployeeCount & EmployeeNumber & ⋯ & RelationshipSatisfaction & StandardHours & StockOptionLevel & TotalWorkingYears & TrainingTimesLastYear & WorkLifeBalance & YearsAtCompany & YearsInCurrentRole & YearsSinceLastPromotion & YearsWithCurrManager\\\\\n",
       "\\hline\n",
       "\t 41                     & Yes                    & Travel\\_Rarely        & 1102                   & Sales                  &  1                     & 2                      & Life Sciences          & 1                      &  1                     & ⋯                      & 1                      & 80                     & 0                      &  8                     & 0                      & 1                      &  6                     & 4                      & 0                      & 5                     \\\\\n",
       "\t 49                       & No                       & Travel\\_Frequently      &  279                     & Research \\& Development &  8                       & 1                        & Life Sciences            & 1                        &  2                       & ⋯                        & 4                        & 80                       & 1                        & 10                       & 3                        & 3                        & 10                       & 7                        & 1                        & 7                       \\\\\n",
       "\t 37                       & Yes                      & Travel\\_Rarely          & 1373                     & Research \\& Development &  2                       & 2                        & Other                    & 1                        &  4                       & ⋯                        & 2                        & 80                       & 0                        &  7                       & 3                        & 3                        &  0                       & 0                        & 0                        & 0                       \\\\\n",
       "\t 33                       & No                       & Travel\\_Frequently      & 1392                     & Research \\& Development &  3                       & 4                        & Life Sciences            & 1                        &  5                       & ⋯                        & 3                        & 80                       & 0                        &  8                       & 3                        & 3                        &  8                       & 7                        & 3                        & 0                       \\\\\n",
       "\t 27                       & No                       & Travel\\_Rarely          &  591                     & Research \\& Development &  2                       & 1                        & Medical                  & 1                        &  7                       & ⋯                        & 4                        & 80                       & 1                        &  6                       & 3                        & 3                        &  2                       & 2                        & 2                        & 2                       \\\\\n",
       "\t 32                       & No                       & Travel\\_Frequently      & 1005                     & Research \\& Development &  2                       & 2                        & Life Sciences            & 1                        &  8                       & ⋯                        & 3                        & 80                       & 0                        &  8                       & 2                        & 2                        &  7                       & 7                        & 3                        & 6                       \\\\\n",
       "\t 59                       & No                       & Travel\\_Rarely          & 1324                     & Research \\& Development &  3                       & 3                        & Medical                  & 1                        & 10                       & ⋯                        & 1                        & 80                       & 3                        & 12                       & 3                        & 2                        &  1                       & 0                        & 0                        & 0                       \\\\\n",
       "\t 30                       & No                       & Travel\\_Rarely          & 1358                     & Research \\& Development & 24                       & 1                        & Life Sciences            & 1                        & 11                       & ⋯                        & 2                        & 80                       & 1                        &  1                       & 2                        & 3                        &  1                       & 0                        & 0                        & 0                       \\\\\n",
       "\t 38                       & No                       & Travel\\_Frequently      &  216                     & Research \\& Development & 23                       & 3                        & Life Sciences            & 1                        & 12                       & ⋯                        & 2                        & 80                       & 0                        & 10                       & 2                        & 3                        &  9                       & 7                        & 1                        & 8                       \\\\\n",
       "\t 36                       & No                       & Travel\\_Rarely          & 1299                     & Research \\& Development & 27                       & 3                        & Medical                  & 1                        & 13                       & ⋯                        & 2                        & 80                       & 2                        & 17                       & 3                        & 2                        &  7                       & 7                        & 7                        & 7                       \\\\\n",
       "\\end{tabular}\n"
      ],
      "text/markdown": [
       "\n",
       "Age | Attrition | BusinessTravel | DailyRate | Department | DistanceFromHome | Education | EducationField | EmployeeCount | EmployeeNumber | ⋯ | RelationshipSatisfaction | StandardHours | StockOptionLevel | TotalWorkingYears | TrainingTimesLastYear | WorkLifeBalance | YearsAtCompany | YearsInCurrentRole | YearsSinceLastPromotion | YearsWithCurrManager | \n",
       "|---|---|---|---|---|---|---|---|---|---|\n",
       "| 41                     | Yes                    | Travel_Rarely          | 1102                   | Sales                  |  1                     | 2                      | Life Sciences          | 1                      |  1                     | ⋯                      | 1                      | 80                     | 0                      |  8                     | 0                      | 1                      |  6                     | 4                      | 0                      | 5                      | \n",
       "| 49                     | No                     | Travel_Frequently      |  279                   | Research & Development |  8                     | 1                      | Life Sciences          | 1                      |  2                     | ⋯                      | 4                      | 80                     | 1                      | 10                     | 3                      | 3                      | 10                     | 7                      | 1                      | 7                      | \n",
       "| 37                     | Yes                    | Travel_Rarely          | 1373                   | Research & Development |  2                     | 2                      | Other                  | 1                      |  4                     | ⋯                      | 2                      | 80                     | 0                      |  7                     | 3                      | 3                      |  0                     | 0                      | 0                      | 0                      | \n",
       "| 33                     | No                     | Travel_Frequently      | 1392                   | Research & Development |  3                     | 4                      | Life Sciences          | 1                      |  5                     | ⋯                      | 3                      | 80                     | 0                      |  8                     | 3                      | 3                      |  8                     | 7                      | 3                      | 0                      | \n",
       "| 27                     | No                     | Travel_Rarely          |  591                   | Research & Development |  2                     | 1                      | Medical                | 1                      |  7                     | ⋯                      | 4                      | 80                     | 1                      |  6                     | 3                      | 3                      |  2                     | 2                      | 2                      | 2                      | \n",
       "| 32                     | No                     | Travel_Frequently      | 1005                   | Research & Development |  2                     | 2                      | Life Sciences          | 1                      |  8                     | ⋯                      | 3                      | 80                     | 0                      |  8                     | 2                      | 2                      |  7                     | 7                      | 3                      | 6                      | \n",
       "| 59                     | No                     | Travel_Rarely          | 1324                   | Research & Development |  3                     | 3                      | Medical                | 1                      | 10                     | ⋯                      | 1                      | 80                     | 3                      | 12                     | 3                      | 2                      |  1                     | 0                      | 0                      | 0                      | \n",
       "| 30                     | No                     | Travel_Rarely          | 1358                   | Research & Development | 24                     | 1                      | Life Sciences          | 1                      | 11                     | ⋯                      | 2                      | 80                     | 1                      |  1                     | 2                      | 3                      |  1                     | 0                      | 0                      | 0                      | \n",
       "| 38                     | No                     | Travel_Frequently      |  216                   | Research & Development | 23                     | 3                      | Life Sciences          | 1                      | 12                     | ⋯                      | 2                      | 80                     | 0                      | 10                     | 2                      | 3                      |  9                     | 7                      | 1                      | 8                      | \n",
       "| 36                     | No                     | Travel_Rarely          | 1299                   | Research & Development | 27                     | 3                      | Medical                | 1                      | 13                     | ⋯                      | 2                      | 80                     | 2                      | 17                     | 3                      | 2                      |  7                     | 7                      | 7                      | 7                      | \n",
       "\n",
       "\n"
      ],
      "text/plain": [
       "   Age Attrition BusinessTravel    DailyRate Department            \n",
       "1  41  Yes       Travel_Rarely     1102      Sales                 \n",
       "2  49  No        Travel_Frequently  279      Research & Development\n",
       "3  37  Yes       Travel_Rarely     1373      Research & Development\n",
       "4  33  No        Travel_Frequently 1392      Research & Development\n",
       "5  27  No        Travel_Rarely      591      Research & Development\n",
       "6  32  No        Travel_Frequently 1005      Research & Development\n",
       "7  59  No        Travel_Rarely     1324      Research & Development\n",
       "8  30  No        Travel_Rarely     1358      Research & Development\n",
       "9  38  No        Travel_Frequently  216      Research & Development\n",
       "10 36  No        Travel_Rarely     1299      Research & Development\n",
       "   DistanceFromHome Education EducationField EmployeeCount EmployeeNumber ⋯\n",
       "1   1               2         Life Sciences  1              1             ⋯\n",
       "2   8               1         Life Sciences  1              2             ⋯\n",
       "3   2               2         Other          1              4             ⋯\n",
       "4   3               4         Life Sciences  1              5             ⋯\n",
       "5   2               1         Medical        1              7             ⋯\n",
       "6   2               2         Life Sciences  1              8             ⋯\n",
       "7   3               3         Medical        1             10             ⋯\n",
       "8  24               1         Life Sciences  1             11             ⋯\n",
       "9  23               3         Life Sciences  1             12             ⋯\n",
       "10 27               3         Medical        1             13             ⋯\n",
       "   RelationshipSatisfaction StandardHours StockOptionLevel TotalWorkingYears\n",
       "1  1                        80            0                 8               \n",
       "2  4                        80            1                10               \n",
       "3  2                        80            0                 7               \n",
       "4  3                        80            0                 8               \n",
       "5  4                        80            1                 6               \n",
       "6  3                        80            0                 8               \n",
       "7  1                        80            3                12               \n",
       "8  2                        80            1                 1               \n",
       "9  2                        80            0                10               \n",
       "10 2                        80            2                17               \n",
       "   TrainingTimesLastYear WorkLifeBalance YearsAtCompany YearsInCurrentRole\n",
       "1  0                     1                6             4                 \n",
       "2  3                     3               10             7                 \n",
       "3  3                     3                0             0                 \n",
       "4  3                     3                8             7                 \n",
       "5  3                     3                2             2                 \n",
       "6  2                     2                7             7                 \n",
       "7  3                     2                1             0                 \n",
       "8  2                     3                1             0                 \n",
       "9  2                     3                9             7                 \n",
       "10 3                     2                7             7                 \n",
       "   YearsSinceLastPromotion YearsWithCurrManager\n",
       "1  0                       5                   \n",
       "2  1                       7                   \n",
       "3  0                       0                   \n",
       "4  3                       0                   \n",
       "5  2                       2                   \n",
       "6  3                       6                   \n",
       "7  0                       0                   \n",
       "8  0                       0                   \n",
       "9  1                       8                   \n",
       "10 7                       7                   "
      ]
     },
     "metadata": {},
     "output_type": "display_data"
    }
   ],
   "source": [
    "hr_data_raw[1:10,]"
   ]
  },
  {
   "cell_type": "code",
   "execution_count": 4,
   "metadata": {},
   "outputs": [],
   "source": [
    "# View first 10 rows\n",
    "# hr_data_raw[1:10,] %>%\n",
    "#     knitr::kable(\"html\",caption = \"First 10 rows\")%>%as.character()%>%display_html()"
   ]
  },
  {
   "cell_type": "code",
   "execution_count": 5,
   "metadata": {},
   "outputs": [],
   "source": [
    "hr_data <- hr_data_raw %>%\n",
    "    mutate_if(is.character, as.factor) %>%\n",
    "    select(Attrition, everything())"
   ]
  },
  {
   "cell_type": "code",
   "execution_count": 6,
   "metadata": {},
   "outputs": [
    {
     "name": "stdout",
     "output_type": "stream",
     "text": [
      "Observations: 1,470\n",
      "Variables: 35\n",
      "$ Attrition                <fct> Yes, No, Yes, No, No, No, No, No, No, No, ...\n",
      "$ Age                      <dbl> 41, 49, 37, 33, 27, 32, 59, 30, 38, 36, 35...\n",
      "$ BusinessTravel           <fct> Travel_Rarely, Travel_Frequently, Travel_R...\n",
      "$ DailyRate                <dbl> 1102, 279, 1373, 1392, 591, 1005, 1324, 13...\n",
      "$ Department               <fct> Sales, Research & Development, Research & ...\n",
      "$ DistanceFromHome         <dbl> 1, 8, 2, 3, 2, 2, 3, 24, 23, 27, 16, 15, 2...\n",
      "$ Education                <dbl> 2, 1, 2, 4, 1, 2, 3, 1, 3, 3, 3, 2, 1, 2, ...\n",
      "$ EducationField           <fct> Life Sciences, Life Sciences, Other, Life ...\n",
      "$ EmployeeCount            <dbl> 1, 1, 1, 1, 1, 1, 1, 1, 1, 1, 1, 1, 1, 1, ...\n",
      "$ EmployeeNumber           <dbl> 1, 2, 4, 5, 7, 8, 10, 11, 12, 13, 14, 15, ...\n",
      "$ EnvironmentSatisfaction  <dbl> 2, 3, 4, 4, 1, 4, 3, 4, 4, 3, 1, 4, 1, 2, ...\n",
      "$ Gender                   <fct> Female, Male, Male, Female, Male, Male, Fe...\n",
      "$ HourlyRate               <dbl> 94, 61, 92, 56, 40, 79, 81, 67, 44, 94, 84...\n",
      "$ JobInvolvement           <dbl> 3, 2, 2, 3, 3, 3, 4, 3, 2, 3, 4, 2, 3, 3, ...\n",
      "$ JobLevel                 <dbl> 2, 2, 1, 1, 1, 1, 1, 1, 3, 2, 1, 2, 1, 1, ...\n",
      "$ JobRole                  <fct> Sales Executive, Research Scientist, Labor...\n",
      "$ JobSatisfaction          <dbl> 4, 2, 3, 3, 2, 4, 1, 3, 3, 3, 2, 3, 3, 4, ...\n",
      "$ MaritalStatus            <fct> Single, Married, Single, Married, Married,...\n",
      "$ MonthlyIncome            <dbl> 5993, 5130, 2090, 2909, 3468, 3068, 2670, ...\n",
      "$ MonthlyRate              <dbl> 19479, 24907, 2396, 23159, 16632, 11864, 9...\n",
      "$ NumCompaniesWorked       <dbl> 8, 1, 6, 1, 9, 0, 4, 1, 0, 6, 0, 0, 1, 0, ...\n",
      "$ Over18                   <fct> Y, Y, Y, Y, Y, Y, Y, Y, Y, Y, Y, Y, Y, Y, ...\n",
      "$ OverTime                 <fct> Yes, No, Yes, Yes, No, No, Yes, No, No, No...\n",
      "$ PercentSalaryHike        <dbl> 11, 23, 15, 11, 12, 13, 20, 22, 21, 13, 13...\n",
      "$ PerformanceRating        <dbl> 3, 4, 3, 3, 3, 3, 4, 4, 4, 3, 3, 3, 3, 3, ...\n",
      "$ RelationshipSatisfaction <dbl> 1, 4, 2, 3, 4, 3, 1, 2, 2, 2, 3, 4, 4, 3, ...\n",
      "$ StandardHours            <dbl> 80, 80, 80, 80, 80, 80, 80, 80, 80, 80, 80...\n",
      "$ StockOptionLevel         <dbl> 0, 1, 0, 0, 1, 0, 3, 1, 0, 2, 1, 0, 1, 1, ...\n",
      "$ TotalWorkingYears        <dbl> 8, 10, 7, 8, 6, 8, 12, 1, 10, 17, 6, 10, 5...\n",
      "$ TrainingTimesLastYear    <dbl> 0, 3, 3, 3, 3, 2, 3, 2, 2, 3, 5, 3, 1, 2, ...\n",
      "$ WorkLifeBalance          <dbl> 1, 3, 3, 3, 3, 2, 2, 3, 3, 2, 3, 3, 2, 3, ...\n",
      "$ YearsAtCompany           <dbl> 6, 10, 0, 8, 2, 7, 1, 1, 9, 7, 5, 9, 5, 2,...\n",
      "$ YearsInCurrentRole       <dbl> 4, 7, 0, 7, 2, 7, 0, 0, 7, 7, 4, 5, 2, 2, ...\n",
      "$ YearsSinceLastPromotion  <dbl> 0, 1, 0, 3, 2, 3, 0, 0, 1, 7, 0, 0, 4, 1, ...\n",
      "$ YearsWithCurrManager     <dbl> 5, 7, 0, 0, 2, 6, 0, 0, 8, 7, 3, 8, 3, 2, ...\n"
     ]
    }
   ],
   "source": [
    "glimpse(hr_data)"
   ]
  },
  {
   "cell_type": "markdown",
   "metadata": {},
   "source": [
    "Modeling Employee Attrition\n",
    "\n",
    "We are going to use the h2o.automl() function from the H2O platform to model employee attrition.\n",
    "H2O\n",
    "\n",
    "First, we need to initialize the Java Virtual Machine (JVM) that H2O uses locally."
   ]
  },
  {
   "cell_type": "code",
   "execution_count": 14,
   "metadata": {},
   "outputs": [
    {
     "name": "stdout",
     "output_type": "stream",
     "text": [
      "\n",
      "H2O is not running yet, starting it now...\n",
      "\n",
      "Note:  In case of errors look at the following log files:\n",
      "    /tmp/Rtmpv2FLys/h2o_jon_started_from_r.out\n",
      "    /tmp/Rtmpv2FLys/h2o_jon_started_from_r.err\n",
      "\n",
      "\n",
      "Starting H2O JVM and connecting: . Connection successful!\n",
      "\n",
      "R is connected to the H2O cluster: \n",
      "    H2O cluster uptime:         3 seconds 794 milliseconds \n",
      "    H2O cluster timezone:       America/Vancouver \n",
      "    H2O data parsing timezone:  UTC \n",
      "    H2O cluster version:        3.20.0.2 \n",
      "    H2O cluster version age:    2 months and 26 days  \n",
      "    H2O cluster name:           H2O_started_from_R_jon_yyc570 \n",
      "    H2O cluster total nodes:    1 \n",
      "    H2O cluster total memory:   2.60 GB \n",
      "    H2O cluster total cores:    8 \n",
      "    H2O cluster allowed cores:  8 \n",
      "    H2O cluster healthy:        TRUE \n",
      "    H2O Connection ip:          localhost \n",
      "    H2O Connection port:        54321 \n",
      "    H2O Connection proxy:       NA \n",
      "    H2O Internal Security:      FALSE \n",
      "    H2O API Extensions:         XGBoost, Algos, AutoML, Core V3, Core V4 \n",
      "    R Version:                  R version 3.4.4 (2018-03-15) \n",
      "\n"
     ]
    }
   ],
   "source": [
    "# Initialize H2O JVM\n",
    "h2o.init() \n"
   ]
  },
  {
   "cell_type": "code",
   "execution_count": 15,
   "metadata": {},
   "outputs": [],
   "source": [
    "h2o.no_progress() # Turn off output of progress bars"
   ]
  },
  {
   "cell_type": "code",
   "execution_count": 16,
   "metadata": {},
   "outputs": [],
   "source": [
    "# Split data into Train/Validation/Test Sets\n",
    "hr_data_h2o <- as.h2o(hr_data)\n",
    "\n",
    "split_h2o <- h2o.splitFrame(hr_data_h2o, c(0.7, 0.15), seed = 1234 )\n",
    "\n",
    "train_h2o <- h2o.assign(split_h2o[[1]], \"train\" ) # 70%\n",
    "valid_h2o <- h2o.assign(split_h2o[[2]], \"valid\" ) # 15%\n",
    "test_h2o  <- h2o.assign(split_h2o[[3]], \"test\" )  # 15%"
   ]
  },
  {
   "cell_type": "code",
   "execution_count": 17,
   "metadata": {},
   "outputs": [],
   "source": [
    "# Set names for h2o\n",
    "y <- \"Attrition\"\n",
    "x <- setdiff(names(train_h2o), y)"
   ]
  },
  {
   "cell_type": "markdown",
   "metadata": {},
   "source": [
    "Now the fun begins. We run the h2o.automl() setting the arguments it needs to run models against. For more information, see the h2o.automl documentation.\n",
    "\n",
    "    x = x: The names of our feature columns.\n",
    "    y = y: The name of our target column.\n",
    "    training_frame = train_h2o: Our training set consisting of 70% of the data.\n",
    "    leaderboard_frame = valid_h2o: Our validation set consisting of 15% of the data. H2O uses this to ensure the model does not overfit the data.\n",
    "    max_runtime_secs = 30: We supply this to speed up H2O’s modeling. The algorithm has a large number of complex models so we want to keep things moving at the expense of some accuracy.\n"
   ]
  },
  {
   "cell_type": "code",
   "execution_count": 18,
   "metadata": {},
   "outputs": [],
   "source": [
    "# Run the automated machine learning \n",
    "automl_models_h2o <- h2o.automl(\n",
    "    x = x, \n",
    "    y = y,\n",
    "    training_frame    = train_h2o,\n",
    "    leaderboard_frame = valid_h2o,\n",
    "    max_runtime_secs  = 30\n",
    "    )"
   ]
  },
  {
   "cell_type": "code",
   "execution_count": null,
   "metadata": {},
   "outputs": [],
   "source": [
    "# Extract leader model\n",
    "automl_leader <- automl_models_h2o@leader"
   ]
  },
  {
   "cell_type": "code",
   "execution_count": null,
   "metadata": {},
   "outputs": [],
   "source": [
    "# Predict on hold-out set, test_h2o\n",
    "pred_h2o <- h2o.predict(object = automl_leader, newdata = test_h2o)"
   ]
  },
  {
   "cell_type": "markdown",
   "metadata": {},
   "source": [
    "https://www.business-science.io/business/2017/09/18/hr_employee_attrition.html"
   ]
  },
  {
   "cell_type": "code",
   "execution_count": null,
   "metadata": {},
   "outputs": [],
   "source": []
  },
  {
   "cell_type": "code",
   "execution_count": null,
   "metadata": {},
   "outputs": [],
   "source": [
    "# Prep for performance assessment\n",
    "test_performance <- test_h2o %>%\n",
    "    tibble::as_tibble() %>%\n",
    "    select(Attrition) %>%\n",
    "    add_column(pred = as.vector(pred_h2o$predict)) %>%\n",
    "    mutate_if(is.character, as.factor)\n",
    "test_performance"
   ]
  },
  {
   "cell_type": "code",
   "execution_count": null,
   "metadata": {},
   "outputs": [],
   "source": [
    "# Confusion table counts\n",
    "confusion_matrix <- test_performance %>%\n",
    "    table() \n",
    "confusion_matrix"
   ]
  },
  {
   "cell_type": "code",
   "execution_count": null,
   "metadata": {},
   "outputs": [],
   "source": []
  },
  {
   "cell_type": "code",
   "execution_count": null,
   "metadata": {},
   "outputs": [],
   "source": []
  },
  {
   "cell_type": "code",
   "execution_count": null,
   "metadata": {},
   "outputs": [],
   "source": []
  },
  {
   "cell_type": "code",
   "execution_count": null,
   "metadata": {},
   "outputs": [],
   "source": []
  },
  {
   "cell_type": "code",
   "execution_count": null,
   "metadata": {},
   "outputs": [],
   "source": []
  },
  {
   "cell_type": "code",
   "execution_count": null,
   "metadata": {},
   "outputs": [],
   "source": []
  },
  {
   "cell_type": "code",
   "execution_count": null,
   "metadata": {},
   "outputs": [],
   "source": []
  }
 ],
 "metadata": {
  "kernelspec": {
   "display_name": "R",
   "language": "R",
   "name": "ir"
  },
  "language_info": {
   "codemirror_mode": "r",
   "file_extension": ".r",
   "mimetype": "text/x-r-source",
   "name": "R",
   "pygments_lexer": "r",
   "version": "3.4.4"
  }
 },
 "nbformat": 4,
 "nbformat_minor": 2
}
