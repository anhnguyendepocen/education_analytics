{
 "cells": [
  {
   "cell_type": "markdown",
   "metadata": {
    "_cell_guid": "dd8e3c50-93dc-4e7a-9323-b0aae83df621",
    "_uuid": "6896dbcb9a291fb5e96079dd99e7da1b10c7f5f7"
   },
   "source": [
    "# Employee Turnover Prediction\n",
    "This notebook provides an example of analyze data for prediction employee turnover. By preprocessing data and feed that into models  using Machine Learning, we can predict if one person will leave the company based on factors like salary, working hours and years at company."
   ]
  },
  {
   "cell_type": "code",
   "execution_count": null,
   "metadata": {
    "_cell_guid": "9b8b3c2f-cbfe-4f48-b9a4-928fbee4540b",
    "_uuid": "a3c3a582bb130b0a49d952573bc22a8236400f16",
    "collapsed": true
   },
   "outputs": [],
   "source": [
    "# This Python 3 environment comes with many helpful analytics libraries installed\n",
    "# It is defined by the kaggle/python docker image: https://github.com/kaggle/docker-python\n",
    "# For example, here's several helpful packages to load in \n",
    "\n",
    "# data analysis and wrangling\n",
    "import pandas as pd\n",
    "import numpy as np\n",
    "import random as rnd\n",
    "\n",
    "# visualization\n",
    "import seaborn as sns\n",
    "import matplotlib.pyplot as plt\n",
    "%matplotlib inline\n",
    "\n",
    "# machine learning\n",
    "from sklearn.linear_model import LogisticRegression\n",
    "from sklearn.svm import SVC, LinearSVC\n",
    "from sklearn.ensemble import RandomForestClassifier\n",
    "from sklearn.neighbors import KNeighborsClassifier\n",
    "from sklearn.naive_bayes import GaussianNB\n",
    "from sklearn.linear_model import Perceptron\n",
    "from sklearn.linear_model import SGDClassifier\n",
    "from sklearn.tree import DecisionTreeClassifier\n",
    "# Input data files are available in the \"../input/\" directory.\n",
    "# For example, running this (by clicking run or pressing Shift+Enter) will list the files in the input directory\n",
    "\n",
    "from subprocess import check_output\n",
    "print(check_output([\"ls\", \"../input\"]).decode(\"utf8\"))\n",
    "\n",
    "# Any results you write to the current directory are saved as output."
   ]
  },
  {
   "cell_type": "markdown",
   "metadata": {
    "_cell_guid": "6978198d-c469-4cec-b943-c206de993a8b",
    "_uuid": "84cd67df22af0c8d66555d5d4081e9db8c4606f0"
   },
   "source": [
    "## Acquire Data\n",
    "read csv file in and store dataset in a dataframe called \"df\""
   ]
  },
  {
   "cell_type": "code",
   "execution_count": null,
   "metadata": {
    "_cell_guid": "543d6d48-7023-40fa-a97d-423e412d78b8",
    "_uuid": "53756d56c2ea743c4c73c4c40e61ec6d9d1b4ab7",
    "collapsed": true
   },
   "outputs": [],
   "source": [
    "df = pd.DataFrame.from_csv('../input/HR_comma_sep.csv', index_col=None)"
   ]
  },
  {
   "cell_type": "code",
   "execution_count": null,
   "metadata": {},
   "outputs": [],
   "source": [
    "import tensorflow as tf"
   ]
  },
  {
   "cell_type": "code",
   "execution_count": null,
   "metadata": {},
   "outputs": [],
   "source": [
    "node1 = tf.constant(3.0, dtype=tf.float32)\n",
    "node2 = tf.constant(4.0) # also tf.float32 implicitly\n",
    "print(node1, node2)"
   ]
  },
  {
   "cell_type": "markdown",
   "metadata": {
    "_cell_guid": "a7265525-497c-4ba9-8b30-3843f634f0cf",
    "_uuid": "a3ad15a901091f7f1d8a79a1bd4bfddd1758a1cc"
   },
   "source": [
    "## Describe data to Analyze"
   ]
  },
  {
   "cell_type": "code",
   "execution_count": null,
   "metadata": {
    "_cell_guid": "56fccb37-9686-4cdf-be37-5ed5caf92952",
    "_uuid": "01373a34f61c00de05c518398a7b03021e01ad45",
    "collapsed": true
   },
   "outputs": [],
   "source": [
    "print(df.columns.values)"
   ]
  },
  {
   "cell_type": "markdown",
   "metadata": {
    "_cell_guid": "89da6ba7-0183-4e26-ba6c-ad232a87d316",
    "_uuid": "fb002d1bda3d0b9156be6baf22def2a2571e972a"
   },
   "source": [
    "Analyze the distribution of numerical feature values"
   ]
  },
  {
   "cell_type": "code",
   "execution_count": null,
   "metadata": {
    "_cell_guid": "3c406873-e824-4569-9a6e-0db8db50d302",
    "_uuid": "fa4d5ba8781be5646c227dcf8cbd5ac9777a3b6c",
    "collapsed": true
   },
   "outputs": [],
   "source": [
    "df.describe()"
   ]
  },
  {
   "cell_type": "code",
   "execution_count": null,
   "metadata": {
    "_cell_guid": "25b60ff8-22ae-420d-9755-1822ad4404df",
    "_uuid": "a6e189e20e80c499111956ee20f0015f31ca52fd",
    "collapsed": true
   },
   "outputs": [],
   "source": [
    "# Preview the data\n",
    "df.head()"
   ]
  },
  {
   "cell_type": "markdown",
   "metadata": {
    "_cell_guid": "c0d9101f-5fb8-4bbd-acc8-eb1381797f74",
    "_uuid": "55bf2e43ff93044fa3b5007ed505df1a3db474b1"
   },
   "source": [
    "## Check for missing data\n",
    "By checking if there is any missing data, we see we luckly don't have any. Therefore no action is needed to fill in the null blanks."
   ]
  },
  {
   "cell_type": "code",
   "execution_count": null,
   "metadata": {
    "_cell_guid": "c95483cc-5e7e-46ca-aba2-1970cdc050a4",
    "_uuid": "85c51743a5a67adee8c449dae04d1153f00d7c49",
    "collapsed": true
   },
   "outputs": [],
   "source": [
    "df.isnull().any()"
   ]
  },
  {
   "cell_type": "markdown",
   "metadata": {
    "_cell_guid": "62011d4a-5ad6-422a-91a6-7bbed9d206b7",
    "_uuid": "604cf1cec21f1213c9736e141973c482c47aeec8"
   },
   "source": [
    "## Cast categorical data type to numerical\n",
    "By showing the info of dataset, we see sales and salary are categorical data type, that will need conversion later."
   ]
  },
  {
   "cell_type": "code",
   "execution_count": null,
   "metadata": {
    "_cell_guid": "ed9b91e1-c7ba-4e8f-a36f-7d5e85cc64e7",
    "_uuid": "33dbf14ea9b8c3811c6bae57584b7996079ecdae",
    "collapsed": true
   },
   "outputs": [],
   "source": [
    "df.info()"
   ]
  },
  {
   "cell_type": "markdown",
   "metadata": {
    "_cell_guid": "1058b728-c7f9-43bd-9e0f-b5f11518740e",
    "_uuid": "f9bfa2160ae4639aaf5b4c4d3c14f6fe1361c893"
   },
   "source": []
  },
  {
   "cell_type": "markdown",
   "metadata": {
    "_cell_guid": "afba7f60-418b-41b8-aea0-f06cb3acf008",
    "_uuid": "dce5aeedf93e90c12c083e0e396ab7c4bdca953e"
   },
   "source": [
    "Now check the distribution of Categorical features"
   ]
  },
  {
   "cell_type": "code",
   "execution_count": null,
   "metadata": {
    "_cell_guid": "3fad6e24-88f9-41e3-94cb-51d39303973c",
    "_uuid": "e2c0c60aa9851091200077df8571a26f534354a0",
    "collapsed": true
   },
   "outputs": [],
   "source": [
    "df.describe(include=['O'])"
   ]
  },
  {
   "cell_type": "markdown",
   "metadata": {
    "_cell_guid": "c7fcbf64-17e6-4780-8fc2-3998350a52ba",
    "_uuid": "98b067b5c3beb9d2e0339dd697649399484bbccf"
   },
   "source": [
    "Sales has 10 ranges and salary has 3 ranges. This will be helpful when we convert the data to numerical features"
   ]
  },
  {
   "cell_type": "code",
   "execution_count": null,
   "metadata": {
    "_cell_guid": "4508fcff-7122-47f1-980c-f5383016b2bc",
    "_uuid": "ce0e0e729be337845a25dcf13bcc9769e8986788",
    "collapsed": true
   },
   "outputs": [],
   "source": [
    "#df = pd.DataFrame.from_csv('../input/HR_comma_sep.csv', index_col=None)\n",
    "df['salary'] = df['salary'].map( {'high':2 ,'medium': 1, 'low': 0} ).astype(int)\n",
    "df.head()"
   ]
  },
  {
   "cell_type": "markdown",
   "metadata": {
    "_cell_guid": "9f504629-f221-4b93-bef3-4746421e786f",
    "_uuid": "d54f578aa85e606d61cea84463e8870431c859d2"
   },
   "source": [
    "Now let's look at how we can convert \"sales\" variable to number. First we need to know what are the ten types \"sales\" has, since it is not obvious at the head of dataset."
   ]
  },
  {
   "cell_type": "code",
   "execution_count": null,
   "metadata": {
    "_cell_guid": "be036a07-a43f-4b96-9969-cc67a93df064",
    "_uuid": "f59feb9db58ba55c6af236c58bfe6b3cab4ddfb0",
    "collapsed": true
   },
   "outputs": [],
   "source": [
    "old = [] \n",
    "for obj in df['sales']:\n",
    "   if obj not in old:\n",
    "    print (obj)\n",
    "    old.append(obj)"
   ]
  },
  {
   "cell_type": "markdown",
   "metadata": {
    "_cell_guid": "1d3cf397-3c3a-44be-9c21-a871033884c4",
    "_uuid": "bcf96d54c2f7af1cd8785cbd166c5f98a6484693"
   },
   "source": [
    "From this for loop, we know there are ten types of sales: sales, accounting, hr, technical, support, IT, management\n",
    "    , product_mng, marketing, RandD. We can now map all of job titles to numbers."
   ]
  },
  {
   "cell_type": "code",
   "execution_count": null,
   "metadata": {
    "_cell_guid": "b6424d8c-b7b8-437f-99fb-cdf8898e5d99",
    "_uuid": "9020924ae8baf7362c9059d193589400a92b241d",
    "collapsed": true
   },
   "outputs": [],
   "source": [
    "df['sales'] = df['sales'].map( {'sales':9 , 'accounting':8 , 'hr':7, 'technical':6,  'support':5,  'management':4, 'IT':3,  'product_mng':2,  'marketing':1,  'RandD':0} ).astype(float)\n",
    "df.head()"
   ]
  },
  {
   "cell_type": "markdown",
   "metadata": {
    "_cell_guid": "64486cab-854a-4753-978b-f937ad82dd60",
    "_uuid": "399908a9fc44bcde0fbbd1713f36040f8d023fa9"
   },
   "source": [
    "## Find correlation of data and leaving rate"
   ]
  },
  {
   "cell_type": "code",
   "execution_count": null,
   "metadata": {
    "_cell_guid": "513336d7-f883-4fca-944d-b2bb27bb07cf",
    "_uuid": "3f04c589fe00e5c98a9e7385e78de940398fe8de",
    "collapsed": true
   },
   "outputs": [],
   "source": [
    "#Correlation Matrix\n",
    "corr = df.corr()\n",
    "corr = (corr)\n",
    "sns.heatmap(corr, \n",
    "            xticklabels=corr.columns.values,\n",
    "            yticklabels=corr.columns.values)\n",
    "\n",
    "corr"
   ]
  },
  {
   "cell_type": "markdown",
   "metadata": {
    "_cell_guid": "aeec2061-b182-42d8-aa48-f4e5bccdbee1",
    "_uuid": "b491ec3c64d2aca2b620e28157588d2586dc1b15"
   },
   "source": [
    "## Analyze by binary relationship table\n",
    "From above we see \"left\" with \"satisfaction_level\", \"salary\" and \"work_accident\" has strong negative correlation, \"left\" and \"time_spend_company\" have strong positive correlation.\n",
    "We can further discover the precise relationship below."
   ]
  },
  {
   "cell_type": "code",
   "execution_count": null,
   "metadata": {
    "_cell_guid": "6a0071e9-63d8-4a80-8c8b-d3f45525ea34",
    "_uuid": "de0319f613ffc39aaf8b560716ed508344a573eb",
    "collapsed": true
   },
   "outputs": [],
   "source": [
    "df[['left', 'satisfaction_level']].groupby(['left'], as_index=False).mean().sort_values(by='satisfaction_level', ascending=False)"
   ]
  },
  {
   "cell_type": "markdown",
   "metadata": {
    "_cell_guid": "9ef67fa7-4828-485d-807a-d0580408add2",
    "_uuid": "0bdacb396ab2b76eedbeeb083132c61b606fa767"
   },
   "source": [
    "Here those who had work accident actually have 0.1 higher possibility to stay in the company, which is counter intuitive. This is the time when Machine Learning comes into play, to discover underlying relationship that does not make sense with normal ways of anaylysis."
   ]
  },
  {
   "cell_type": "code",
   "execution_count": null,
   "metadata": {
    "_cell_guid": "6ebbee88-4439-4239-99ef-e5a9a8f7dcc6",
    "_uuid": "a5645684e6c28b862251c72318db3abc32f127ff",
    "collapsed": true
   },
   "outputs": [],
   "source": [
    "df[['left', 'Work_accident']].groupby(['left'], as_index=False).mean().sort_values(by='Work_accident', ascending=False)"
   ]
  },
  {
   "cell_type": "markdown",
   "metadata": {
    "_cell_guid": "b9f76d24-0fcc-4d65-9c44-3e8706480d25",
    "_uuid": "eda64e4aa06fd9afab9add1ef67389287949f139"
   },
   "source": [
    "When grouped by \"left\" factor, the data of time_spend_company is not very helpful. Therefore we try to group by time_spend_company as below. We see those who spent 3-6 years at the company are most likely to leave."
   ]
  },
  {
   "cell_type": "code",
   "execution_count": null,
   "metadata": {
    "_cell_guid": "43709016-0290-4cbb-883c-b7918ca08bbc",
    "_uuid": "340215933348162ac32b2983fd8629a5e8be6e7a",
    "collapsed": true
   },
   "outputs": [],
   "source": [
    "df[['left', 'time_spend_company']].groupby(['time_spend_company'], as_index=False).mean().sort_values(by='left', ascending=False)"
   ]
  },
  {
   "cell_type": "markdown",
   "metadata": {
    "_cell_guid": "300854f0-59ea-47c4-b4b5-90000867bb33",
    "_uuid": "3a2c7ff67a1785a0b0457cea649a3bfe550b4521"
   },
   "source": [
    "The salary factor shows these who left are those who earns the least."
   ]
  },
  {
   "cell_type": "code",
   "execution_count": null,
   "metadata": {
    "_cell_guid": "bc307ce5-3f0f-4de1-a1f1-2f3d1cae8beb",
    "_uuid": "50c0cfc862d1cb7fae771c23e2297c809de797a9",
    "collapsed": true
   },
   "outputs": [],
   "source": [
    "df[['left', 'salary']].groupby(['salary'], as_index=False).mean().sort_values(by='left', ascending=False)"
   ]
  },
  {
   "cell_type": "markdown",
   "metadata": {
    "_cell_guid": "a1832b12-5e4f-4fe6-b287-60ec9f3a91b7",
    "_uuid": "73e73855379bd8234ea2a3191e1a1707acf7e55f"
   },
   "source": [
    "## Visualize and convert continuous data to discrete\n",
    "Other than the corerlation with binary \"left\" factor, exploring correlation between other factors can also give us very constructive information,"
   ]
  },
  {
   "cell_type": "code",
   "execution_count": null,
   "metadata": {
    "_cell_guid": "011a92ce-ec9b-402a-a49d-14d557f33b6a",
    "_uuid": "0b5718cc15ba6c8b7ca4ea1e53702392a43ddbac",
    "collapsed": true
   },
   "outputs": [],
   "source": [
    "g = sns.FacetGrid(df, col='number_project')\n",
    "g.map(plt.hist, 'average_montly_hours', bins=10)"
   ]
  },
  {
   "cell_type": "markdown",
   "metadata": {
    "_cell_guid": "aedbde24-2762-405a-acc2-0f3fa6f351ac",
    "_uuid": "6724cfad290e897ed9b189252392e5f80f62b90d"
   },
   "source": [
    "We see a positive relationship between number of project with average monthly hours. Therefore we can combine these two columns. By either dropping one of them or multiply them to make correlation even stronger."
   ]
  },
  {
   "cell_type": "code",
   "execution_count": null,
   "metadata": {
    "_cell_guid": "5627c9f6-c7a6-4aac-8565-5fc30c02ba3c",
    "_uuid": "1e02d812650709f4a9b870059c476d3ea7bc5309",
    "collapsed": true
   },
   "outputs": [],
   "source": [
    "g = sns.FacetGrid(df, col='left')\n",
    "g.map(plt.hist, 'average_montly_hours', bins=20)"
   ]
  },
  {
   "cell_type": "markdown",
   "metadata": {
    "_cell_guid": "233ebbd0-a818-432e-b9db-977002186795",
    "_uuid": "0b56534df87cadd846bcb523875d4848398ba3f3"
   },
   "source": [
    "We can see that those who work less than about 160 hours and more than about 270 hours are more likely to leave, but for some reason it significantly lower the accuracy when trying to convert this average hour into discreet representation, so we keep it as it for now."
   ]
  },
  {
   "cell_type": "code",
   "execution_count": null,
   "metadata": {
    "_cell_guid": "9a1c1fc1-f244-4a10-99d8-cfffbb912c9f",
    "_uuid": "9730966fe103a6481d768837b84be251703aa39a",
    "collapsed": true
   },
   "outputs": [],
   "source": [
    "g = sns.FacetGrid(df, col='left')\n",
    "g.map(plt.hist, 'satisfaction_level', bins=20)"
   ]
  },
  {
   "cell_type": "markdown",
   "metadata": {
    "_cell_guid": "a180cf02-dab4-4f5a-8955-0086044f83fd",
    "_uuid": "6c729870763c02b89e3e479d357fab0543582a7d"
   },
   "source": [
    "The relationship of satisfaction_level and left are also bimodially correlated. Since the correlation of \"satisfaction_level\" with  \"left\" is 0.39 which is pretty high, it is worth modifying the data to better reflect how each satisfaction_level range influence the \"left\"."
   ]
  },
  {
   "cell_type": "code",
   "execution_count": null,
   "metadata": {
    "_cell_guid": "5cdca80b-3b36-45f3-aa96-b9f48e652479",
    "_uuid": "f0cdc2c8e90dd2008dfac0a8778d0ba445bf2ded",
    "collapsed": true
   },
   "outputs": [],
   "source": [
    "#From the above graph, we see a high left rate between 0.25-0.5 and also >0.75\n",
    "df.loc[ df['satisfaction_level'] <= 0.25, 'satisfaction_level'] = 0\n",
    "df.loc[(df['satisfaction_level'] > 0.25) & (df['satisfaction_level'] <= 0.5), 'satisfaction_level'] = 1\n",
    "df.loc[(df['satisfaction_level'] > 0.5) & (df['satisfaction_level'] <= 0.75), 'satisfaction_level']   = 0\n",
    "df.loc[ df['satisfaction_level'] > 0.75, 'satisfaction_level'] = 1\n",
    "df['satisfaction_level'] = df['satisfaction_level'].astype(int)"
   ]
  },
  {
   "cell_type": "code",
   "execution_count": null,
   "metadata": {
    "_cell_guid": "0822fee1-4a8a-4fca-8a8d-4d6cc2d86d90",
    "_uuid": "7a3da5eaa101d96cc1c341aa27ce1967f3193f8f",
    "collapsed": true
   },
   "outputs": [],
   "source": [
    "g = sns.FacetGrid(df, col='left')\n",
    "g.map(plt.hist, 'last_evaluation', bins=20)"
   ]
  },
  {
   "cell_type": "markdown",
   "metadata": {
    "_cell_guid": "14c6c22f-0631-4d4a-81b0-44c941dac262",
    "_uuid": "d748e6cc1375ad9859a31a5440a3bb2edb98e879"
   },
   "source": [
    "The last_evaluation also has a clear pattern for those who choose to leave the company. We see from above that if one's last_evaluation is <0.56 or >0.8, one has higher tendency to leave the company."
   ]
  },
  {
   "cell_type": "code",
   "execution_count": null,
   "metadata": {
    "_cell_guid": "d9996bee-0007-4540-8aa4-6f9c6f93f4bb",
    "_uuid": "baad39231176ba5b12ee080f7b3f078259bb30ab",
    "collapsed": true
   },
   "outputs": [],
   "source": [
    "df.loc[ df['last_evaluation'] <= 0.56, 'last_evaluation'] = 0\n",
    "df.loc[(df['last_evaluation'] > 0.56) & (df['last_evaluation'] <= 0.80), 'last_evaluation'] = 1\n",
    "df.loc[ df['last_evaluation'] > 0.80, 'last_evaluation'] = 0\n",
    "df['last_evaluation'] = df['last_evaluation'].astype(int)\n"
   ]
  },
  {
   "cell_type": "markdown",
   "metadata": {
    "_cell_guid": "0bdcae73-58bb-4c8c-8386-91675b154cc3",
    "_uuid": "82bb71c8b6982faa03b18d9744a308cd7f33fc6e"
   },
   "source": [
    "## Create new column from existing data\n",
    "We see from the previous correlation matrix analysis that 'number_project' and 'average_montly_hours' are strongly correlated, therefore we can combine these existing columns to create new feature."
   ]
  },
  {
   "cell_type": "code",
   "execution_count": null,
   "metadata": {
    "_cell_guid": "337f1580-3141-4e02-acfc-49be5bb0d759",
    "_uuid": "ede99757b7dd229483238106ebaac1939c1049c7",
    "collapsed": true
   },
   "outputs": [],
   "source": [
    "df[\"proj*hour\"] = df.number_project * df.average_montly_hours\n",
    "df.loc[:, ['proj*hour','number_project','average_montly_hours']].head(10)"
   ]
  },
  {
   "cell_type": "markdown",
   "metadata": {
    "_cell_guid": "62f4164a-2344-4fda-b546-6613ca232fd1",
    "_uuid": "f2a9e37be1cca1bf7ee309eea3bee973a00739a5"
   },
   "source": [
    "## Remove duplicate datasets\n",
    "Since we have 'proj*hour' now, we can drop 'number_project' and 'average_montly_hours' to remove duplicate data from model"
   ]
  },
  {
   "cell_type": "code",
   "execution_count": null,
   "metadata": {
    "_cell_guid": "29373fd0-8bb2-4a96-adbe-81f1b5be1126",
    "_uuid": "f3f735bdeb74791a83628cb350bea2ca8f57c304",
    "collapsed": true
   },
   "outputs": [],
   "source": [
    "df = df.drop(['number_project','average_montly_hours'], axis=1)"
   ]
  },
  {
   "cell_type": "markdown",
   "metadata": {
    "_cell_guid": "3710fbc3-d64d-4fc1-aaad-ad2f612bd398",
    "_uuid": "761ab544fd580041584e6de1d826f3da27f8efc4"
   },
   "source": []
  },
  {
   "cell_type": "markdown",
   "metadata": {
    "_cell_guid": "cc5e698b-2ab2-4e08-b79d-28d51dc9fbc2",
    "_uuid": "7c6229b8135b987cf7ad56835ac4103f028f26b7"
   },
   "source": [
    "## Split train and test datsets\n",
    "Now we can split the preprocessed data to training dataset and testing dataset, which are 85% and 15% of the original dataset"
   ]
  },
  {
   "cell_type": "code",
   "execution_count": null,
   "metadata": {
    "_cell_guid": "2b518f08-f3e3-4a2b-b2e2-a3016d617551",
    "_uuid": "5727055f24fec04ab337a02fe14c3e9804fbe10a",
    "collapsed": true
   },
   "outputs": [],
   "source": [
    "nHead = int(len(df)*0.85)\n",
    "nTail = int(len(df)*0.15)\n",
    "X_train = df.drop(\"left\", axis=1).head(nHead)\n",
    "X_test  = df.drop(\"left\", axis=1).tail(nTail)\n",
    "Y_train = df[\"left\"].head(nHead)\n",
    "Y_test = df[\"left\"].tail(nTail)\n",
    "X_train.shape, X_test.shape"
   ]
  },
  {
   "cell_type": "markdown",
   "metadata": {
    "_cell_guid": "5107c34a-f16b-4181-a17b-cc5f1deb5c98",
    "_uuid": "a0e4a9686b4bea32e6a7f9c7adcc96c540a3bf03"
   },
   "source": [
    "## Modeling with dataset\n",
    "There are several modeling strategies. Here we list three distinct ones and test out which one works best."
   ]
  },
  {
   "cell_type": "markdown",
   "metadata": {
    "_cell_guid": "d4841f8e-3ce0-49f1-94e1-8c0606f000c2",
    "_uuid": "9828ee3cfdb75c6b88ebbc83acf0c150edcffe56"
   },
   "source": [
    "### Support Vector Machines\n",
    "support vector machines (SVMs, also support vector networks[1]) are supervised learning models with associated learning algorithms that analyze data used for classification and regression analysis. Given a set of training examples, each marked as belonging to one or the other of two categories, an SVM training algorithm builds a model that assigns new examples to one category or the other (Wikipedia)."
   ]
  },
  {
   "cell_type": "code",
   "execution_count": null,
   "metadata": {
    "_cell_guid": "0794b4ed-1a14-4b7b-91c0-0a31178e2d49",
    "_uuid": "8a388d829b75b9b024acfaa8cd9173808b8ba696",
    "collapsed": true
   },
   "outputs": [],
   "source": [
    "svc = SVC()\n",
    "svc.fit(X_train, Y_train)\n",
    "acc_svc = round(svc.score(X_test, Y_test) * 100, 2)\n",
    "acc_svc"
   ]
  },
  {
   "cell_type": "markdown",
   "metadata": {
    "_cell_guid": "38937581-bf50-4b64-8f6f-857b462dae03",
    "_uuid": "f5a14d03fe12dbb0b1effcbbacff59bb344686cd"
   },
   "source": [
    " ### k-nearest neighbors\n",
    " k-nearest neighbors algorithm (k-NN) is a non-parametric method used for classification and regression.[1] In both cases, the input consists of the k closest training examples in the feature space (Wikipedia)."
   ]
  },
  {
   "cell_type": "code",
   "execution_count": null,
   "metadata": {
    "_cell_guid": "a5467316-0df6-4951-b42b-7d3b78cc3c8f",
    "_uuid": "2f144ca3b4986e11c47c81e72abbe812713e0010",
    "collapsed": true
   },
   "outputs": [],
   "source": [
    "knn = KNeighborsClassifier(n_neighbors = 3)\n",
    "knn.fit(X_train, Y_train)\n",
    "acc_knn = round(knn.score(X_test, Y_test) * 100, 2)\n",
    "acc_knn"
   ]
  },
  {
   "cell_type": "markdown",
   "metadata": {
    "_cell_guid": "37298050-27e7-4725-a8ea-f4728c15a22b",
    "_uuid": "9d651a5d26d2a0059b79dc16001fe6cd8c6d6480"
   },
   "source": [
    "### decision tree\n",
    "A decision tree is a decision support tool that uses a tree-like graph or model of decisions and their possible consequences, including chance event outcomes, resource costs, and utility. It is one way to display an algorithm that only contains conditional control statements (Wikipedia)."
   ]
  },
  {
   "cell_type": "code",
   "execution_count": null,
   "metadata": {
    "_cell_guid": "c9354a84-c830-4cd7-acf3-d64a30dc0fab",
    "_uuid": "9b7b6669d57059b70f417bcff9a741fb799eb556",
    "collapsed": true
   },
   "outputs": [],
   "source": [
    "# Decision Tree\n",
    "\n",
    "decision_tree = DecisionTreeClassifier()\n",
    "decision_tree.fit(X_train, Y_train)\n",
    "acc_decision_tree = round(decision_tree.score(X_test, Y_test) * 100, 2)\n",
    "acc_decision_tree"
   ]
  },
  {
   "cell_type": "code",
   "execution_count": null,
   "metadata": {
    "_cell_guid": "df42b755-75eb-4c2f-8d14-76f8e23b1466",
    "_uuid": "a93dda550aaa65d7f956c1d6fc61d999129f1b6d",
    "collapsed": true
   },
   "outputs": [],
   "source": []
  }
 ],
 "metadata": {
  "kernelspec": {
   "display_name": "Python [default]",
   "language": "python",
   "name": "python3"
  },
  "language_info": {
   "codemirror_mode": {
    "name": "ipython",
    "version": 3
   },
   "file_extension": ".py",
   "mimetype": "text/x-python",
   "name": "python",
   "nbconvert_exporter": "python",
   "pygments_lexer": "ipython3",
   "version": "3.6.4"
  }
 },
 "nbformat": 4,
 "nbformat_minor": 2
}
